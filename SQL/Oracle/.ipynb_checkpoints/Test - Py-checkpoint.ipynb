{
 "cells": [
  {
   "cell_type": "markdown",
   "metadata": {},
   "source": [
    "# Oracle Exercises"
   ]
  },
  {
   "cell_type": "code",
   "execution_count": 38,
   "metadata": {},
   "outputs": [],
   "source": [
    "import sqlalchemy\n",
    "import pandas as pd\n",
    "import cx_Oracle"
   ]
  },
  {
   "cell_type": "code",
   "execution_count": 40,
   "metadata": {},
   "outputs": [],
   "source": [
    "from sqlalchemy import create_engine\n",
    "db_connection = cx_Oracle.connect(\"david/barkley07@dkingpc/xe\")\n",
    "\n",
    "# db_connection = cx_Oracle.connect(\"user0/user0@dkingpc/xe\")"
   ]
  },
  {
   "cell_type": "code",
   "execution_count": 42,
   "metadata": {},
   "outputs": [],
   "source": [
    "x = pd.read_sql_query('SELECT * FROM purch_hist',db_connection)"
   ]
  },
  {
   "cell_type": "markdown",
   "metadata": {},
   "source": [
    "# Query Function"
   ]
  },
  {
   "cell_type": "code",
   "execution_count": 63,
   "metadata": {},
   "outputs": [],
   "source": [
    "def q(sqls,db_connection,rows):\n",
    "    x = pd.read_sql_query(sqls,db_connection)\n",
    "    return x.head(rows)"
   ]
  },
  {
   "cell_type": "markdown",
   "metadata": {},
   "source": [
    "# Character Dates"
   ]
  },
  {
   "cell_type": "code",
   "execution_count": 64,
   "metadata": {},
   "outputs": [],
   "source": [
    "sqls = '''\n",
    "select * from purch_hist \n",
    "where purchproddate like '%/2015'\n",
    "and purchprodid = '2'\n",
    "and to_number(substr(purchproddate,1,2)) > '06'\n",
    "'''"
   ]
  },
  {
   "cell_type": "code",
   "execution_count": 65,
   "metadata": {},
   "outputs": [
    {
     "data": {
      "text/html": [
       "<div>\n",
       "<style>\n",
       "    .dataframe thead tr:only-child th {\n",
       "        text-align: right;\n",
       "    }\n",
       "\n",
       "    .dataframe thead th {\n",
       "        text-align: left;\n",
       "    }\n",
       "\n",
       "    .dataframe tbody tr th {\n",
       "        vertical-align: top;\n",
       "    }\n",
       "</style>\n",
       "<table border=\"1\" class=\"dataframe\">\n",
       "  <thead>\n",
       "    <tr style=\"text-align: right;\">\n",
       "      <th></th>\n",
       "      <th>ACCOUNTID</th>\n",
       "      <th>PURCHPRODDATE</th>\n",
       "      <th>PURCHPRODID</th>\n",
       "      <th>PURCHORDERID</th>\n",
       "    </tr>\n",
       "  </thead>\n",
       "  <tbody>\n",
       "    <tr>\n",
       "      <th>0</th>\n",
       "      <td>400416</td>\n",
       "      <td>07/17/2015</td>\n",
       "      <td>2</td>\n",
       "      <td>49709</td>\n",
       "    </tr>\n",
       "    <tr>\n",
       "      <th>1</th>\n",
       "      <td>400449</td>\n",
       "      <td>12/12/2015</td>\n",
       "      <td>2</td>\n",
       "      <td>35729</td>\n",
       "    </tr>\n",
       "    <tr>\n",
       "      <th>2</th>\n",
       "      <td>400736</td>\n",
       "      <td>07/20/2015</td>\n",
       "      <td>2</td>\n",
       "      <td>55945</td>\n",
       "    </tr>\n",
       "    <tr>\n",
       "      <th>3</th>\n",
       "      <td>400801</td>\n",
       "      <td>12/14/2015</td>\n",
       "      <td>2</td>\n",
       "      <td>54776</td>\n",
       "    </tr>\n",
       "    <tr>\n",
       "      <th>4</th>\n",
       "      <td>400878</td>\n",
       "      <td>08/28/2015</td>\n",
       "      <td>2</td>\n",
       "      <td>59765</td>\n",
       "    </tr>\n",
       "    <tr>\n",
       "      <th>5</th>\n",
       "      <td>400881</td>\n",
       "      <td>12/17/2015</td>\n",
       "      <td>2</td>\n",
       "      <td>14190</td>\n",
       "    </tr>\n",
       "    <tr>\n",
       "      <th>6</th>\n",
       "      <td>400985</td>\n",
       "      <td>11/27/2015</td>\n",
       "      <td>2</td>\n",
       "      <td>81573</td>\n",
       "    </tr>\n",
       "    <tr>\n",
       "      <th>7</th>\n",
       "      <td>401999</td>\n",
       "      <td>11/18/2015</td>\n",
       "      <td>2</td>\n",
       "      <td>51524</td>\n",
       "    </tr>\n",
       "    <tr>\n",
       "      <th>8</th>\n",
       "      <td>402684</td>\n",
       "      <td>07/11/2015</td>\n",
       "      <td>2</td>\n",
       "      <td>364</td>\n",
       "    </tr>\n",
       "    <tr>\n",
       "      <th>9</th>\n",
       "      <td>403806</td>\n",
       "      <td>09/25/2015</td>\n",
       "      <td>2</td>\n",
       "      <td>77772</td>\n",
       "    </tr>\n",
       "  </tbody>\n",
       "</table>\n",
       "</div>"
      ],
      "text/plain": [
       "   ACCOUNTID PURCHPRODDATE PURCHPRODID  PURCHORDERID\n",
       "0     400416    07/17/2015           2         49709\n",
       "1     400449    12/12/2015           2         35729\n",
       "2     400736    07/20/2015           2         55945\n",
       "3     400801    12/14/2015           2         54776\n",
       "4     400878    08/28/2015           2         59765\n",
       "5     400881    12/17/2015           2         14190\n",
       "6     400985    11/27/2015           2         81573\n",
       "7     401999    11/18/2015           2         51524\n",
       "8     402684    07/11/2015           2           364\n",
       "9     403806    09/25/2015           2         77772"
      ]
     },
     "execution_count": 65,
     "metadata": {},
     "output_type": "execute_result"
    }
   ],
   "source": [
    "q(sqls,db_connection,10)"
   ]
  },
  {
   "cell_type": "code",
   "execution_count": null,
   "metadata": {},
   "outputs": [],
   "source": []
  }
 ],
 "metadata": {
  "kernelspec": {
   "display_name": "Python 3",
   "language": "python",
   "name": "python3"
  },
  "language_info": {
   "codemirror_mode": {
    "name": "ipython",
    "version": 3
   },
   "file_extension": ".py",
   "mimetype": "text/x-python",
   "name": "python",
   "nbconvert_exporter": "python",
   "pygments_lexer": "ipython3",
   "version": "3.6.2"
  },
  "toc": {
   "colors": {
    "hover_highlight": "#DAA520",
    "navigate_num": "#000000",
    "navigate_text": "#333333",
    "running_highlight": "#FF0000",
    "selected_highlight": "#FFD700",
    "sidebar_border": "#EEEEEE",
    "wrapper_background": "#FFFFFF"
   },
   "moveMenuLeft": true,
   "nav_menu": {
    "height": "12px",
    "width": "252px"
   },
   "navigate_menu": true,
   "number_sections": true,
   "sideBar": true,
   "threshold": 4,
   "toc_cell": false,
   "toc_position": {
    "height": "621px",
    "left": "0px",
    "right": "657px",
    "top": "111px",
    "width": "121px"
   },
   "toc_section_display": "block",
   "toc_window_display": true,
   "widenNotebook": false
  }
 },
 "nbformat": 4,
 "nbformat_minor": 2
}
