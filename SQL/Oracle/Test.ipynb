{
 "cells": [
  {
   "cell_type": "markdown",
   "metadata": {},
   "source": [
    "# Test"
   ]
  },
  {
   "cell_type": "markdown",
   "metadata": {},
   "source": [
    "https://stackoverflow.com/questions/31907247/how-do-i-install-rodbc-on-mac-with-unixodbc-and-freetds"
   ]
  },
  {
   "cell_type": "code",
   "execution_count": 3,
   "metadata": {},
   "outputs": [
    {
     "name": "stderr",
     "output_type": "stream",
     "text": [
      "Installing package into ‘/Users/Collier/Library/R/3.3/library’\n",
      "(as ‘lib’ is unspecified)\n",
      "Package which is only available in source form, and may need\n",
      "  compilation of C/C++/Fortran: ‘RODBC’\n",
      "installing the source package ‘RODBC’\n",
      "\n",
      "Warning message:\n",
      "In install.packages(\"RODBC\"): installation of package ‘RODBC’ had non-zero exit status"
     ]
    },
    {
     "ename": "ERROR",
     "evalue": "Error in library(RODBC): there is no package called ‘RODBC’\n",
     "output_type": "error",
     "traceback": [
      "Error in library(RODBC): there is no package called ‘RODBC’\nTraceback:\n",
      "1. library(RODBC)",
      "2. stop(txt, domain = NA)"
     ]
    }
   ],
   "source": [
    "install.packages(\"RODBC\")\n",
    "library(RODBC)"
   ]
  },
  {
   "cell_type": "code",
   "execution_count": null,
   "metadata": {},
   "outputs": [],
   "source": []
  }
 ],
 "metadata": {
  "kernelspec": {
   "display_name": "R",
   "language": "R",
   "name": "ir"
  },
  "language_info": {
   "codemirror_mode": "r",
   "file_extension": ".r",
   "mimetype": "text/x-r-source",
   "name": "R",
   "pygments_lexer": "r",
   "version": "3.3.2"
  },
  "toc": {
   "colors": {
    "hover_highlight": "#DAA520",
    "navigate_num": "#000000",
    "navigate_text": "#333333",
    "running_highlight": "#FF0000",
    "selected_highlight": "#FFD700",
    "sidebar_border": "#EEEEEE",
    "wrapper_background": "#FFFFFF"
   },
   "moveMenuLeft": true,
   "nav_menu": {
    "height": "30px",
    "width": "252px"
   },
   "navigate_menu": true,
   "number_sections": true,
   "sideBar": true,
   "threshold": 4,
   "toc_cell": false,
   "toc_section_display": "block",
   "toc_window_display": false,
   "widenNotebook": false
  }
 },
 "nbformat": 4,
 "nbformat_minor": 2
}
