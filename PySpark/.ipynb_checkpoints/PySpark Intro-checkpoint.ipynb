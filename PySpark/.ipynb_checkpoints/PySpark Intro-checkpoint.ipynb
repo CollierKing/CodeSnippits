{
 "cells": [
  {
   "cell_type": "code",
   "execution_count": 1,
   "metadata": {},
   "outputs": [
    {
     "name": "stdout",
     "output_type": "stream",
     "text": [
      "3.14171808\n"
     ]
    }
   ],
   "source": [
    "import random\n",
    "num_samples = 100000000\n",
    "def inside(p):     \n",
    "  x, y = random.random(), random.random()\n",
    "  return x*x + y*y < 1\n",
    "count = sc.parallelize(range(0, num_samples)).filter(inside).count()\n",
    "pi = 4 * count / num_samples\n",
    "print(pi)\n",
    "sc.stop()"
   ]
  },
  {
   "cell_type": "code",
   "execution_count": 2,
   "metadata": {},
   "outputs": [],
   "source": [
    "from pyspark.sql import SparkSession"
   ]
  },
  {
   "cell_type": "code",
   "execution_count": 3,
   "metadata": {},
   "outputs": [],
   "source": [
    "spark = SparkSession.builder.appName('input').getOrCreate()"
   ]
  },
  {
   "cell_type": "code",
   "execution_count": 9,
   "metadata": {},
   "outputs": [],
   "source": [
    "import pandas as pd\n",
    "x = pd.read_csv(\"/Users/Collier/Dropbox/Skills/Python/Projects/Stocks/StockMarket_ML_Trading/stock_fundamentals.csv\")"
   ]
  },
  {
   "cell_type": "code",
   "execution_count": 10,
   "metadata": {},
   "outputs": [
    {
     "data": {
      "text/html": [
       "<div>\n",
       "<style>\n",
       "    .dataframe thead tr:only-child th {\n",
       "        text-align: right;\n",
       "    }\n",
       "\n",
       "    .dataframe thead th {\n",
       "        text-align: left;\n",
       "    }\n",
       "\n",
       "    .dataframe tbody tr th {\n",
       "        vertical-align: top;\n",
       "    }\n",
       "</style>\n",
       "<table border=\"1\" class=\"dataframe\">\n",
       "  <thead>\n",
       "    <tr style=\"text-align: right;\">\n",
       "      <th></th>\n",
       "      <th>Unnamed: 0</th>\n",
       "      <th>Dates</th>\n",
       "      <th>Values</th>\n",
       "      <th>metric</th>\n",
       "      <th>ticker</th>\n",
       "    </tr>\n",
       "  </thead>\n",
       "  <tbody>\n",
       "    <tr>\n",
       "      <th>0</th>\n",
       "      <td>0</td>\n",
       "      <td>Sept. 30, 2017</td>\n",
       "      <td>4.084</td>\n",
       "      <td>debt_to_equity</td>\n",
       "      <td>TIPT</td>\n",
       "    </tr>\n",
       "    <tr>\n",
       "      <th>1</th>\n",
       "      <td>1</td>\n",
       "      <td>June 30, 2017</td>\n",
       "      <td>4.483</td>\n",
       "      <td>debt_to_equity</td>\n",
       "      <td>TIPT</td>\n",
       "    </tr>\n",
       "    <tr>\n",
       "      <th>2</th>\n",
       "      <td>2</td>\n",
       "      <td>March 31, 2017</td>\n",
       "      <td>4.290</td>\n",
       "      <td>debt_to_equity</td>\n",
       "      <td>TIPT</td>\n",
       "    </tr>\n",
       "    <tr>\n",
       "      <th>3</th>\n",
       "      <td>3</td>\n",
       "      <td>Dec. 31, 2016</td>\n",
       "      <td>2.702</td>\n",
       "      <td>debt_to_equity</td>\n",
       "      <td>TIPT</td>\n",
       "    </tr>\n",
       "    <tr>\n",
       "      <th>4</th>\n",
       "      <td>4</td>\n",
       "      <td>Sept. 30, 2016</td>\n",
       "      <td>5.935</td>\n",
       "      <td>debt_to_equity</td>\n",
       "      <td>TIPT</td>\n",
       "    </tr>\n",
       "  </tbody>\n",
       "</table>\n",
       "</div>"
      ],
      "text/plain": [
       "   Unnamed: 0           Dates Values          metric ticker\n",
       "0           0  Sept. 30, 2017  4.084  debt_to_equity   TIPT\n",
       "1           1   June 30, 2017  4.483  debt_to_equity   TIPT\n",
       "2           2  March 31, 2017  4.290  debt_to_equity   TIPT\n",
       "3           3   Dec. 31, 2016  2.702  debt_to_equity   TIPT\n",
       "4           4  Sept. 30, 2016  5.935  debt_to_equity   TIPT"
      ]
     },
     "execution_count": 10,
     "metadata": {},
     "output_type": "execute_result"
    }
   ],
   "source": [
    "x.head()"
   ]
  },
  {
   "cell_type": "markdown",
   "metadata": {},
   "source": [
    "# Import"
   ]
  },
  {
   "cell_type": "code",
   "execution_count": 11,
   "metadata": {},
   "outputs": [],
   "source": [
    "x = spark.read.csv(\"/Users/Collier/Dropbox/Skills/Python/Projects/Stocks/StockMarket_ML_Trading/stock_fundamentals.csv\",inferSchema=True,header=True)"
   ]
  },
  {
   "cell_type": "code",
   "execution_count": 12,
   "metadata": {},
   "outputs": [
    {
     "name": "stdout",
     "output_type": "stream",
     "text": [
      "+---+--------------+------+--------------+------+\n",
      "|_c0|         Dates|Values|        metric|ticker|\n",
      "+---+--------------+------+--------------+------+\n",
      "|  0|Sept. 30, 2017| 4.084|debt_to_equity|  TIPT|\n",
      "|  1| June 30, 2017| 4.483|debt_to_equity|  TIPT|\n",
      "|  2|March 31, 2017| 4.290|debt_to_equity|  TIPT|\n",
      "|  3| Dec. 31, 2016| 2.702|debt_to_equity|  TIPT|\n",
      "|  4|Sept. 30, 2016| 5.935|debt_to_equity|  TIPT|\n",
      "|  5| June 30, 2016| 2.279|debt_to_equity|  TIPT|\n",
      "|  6|March 31, 2016| 2.240|debt_to_equity|  TIPT|\n",
      "|  7| Dec. 31, 2015| 2.132|debt_to_equity|  TIPT|\n",
      "|  8|Sept. 30, 2015| 1.957|debt_to_equity|  TIPT|\n",
      "|  9| June 30, 2015| 1.565|debt_to_equity|  TIPT|\n",
      "| 10|March 31, 2015| 1.658|debt_to_equity|  TIPT|\n",
      "| 11| Dec. 31, 2014| 1.277|debt_to_equity|  TIPT|\n",
      "| 12|Sept. 30, 2014| 1.364|debt_to_equity|  TIPT|\n",
      "| 13| June 30, 2014| 2.326|debt_to_equity|  TIPT|\n",
      "| 14|March 31, 2014| 1.881|debt_to_equity|  TIPT|\n",
      "| 15| Dec. 31, 2013| 2.724|debt_to_equity|  TIPT|\n",
      "| 16|Sept. 30, 2013| 1.186|debt_to_equity|  TIPT|\n",
      "| 17| June 30, 2013|0.3325|debt_to_equity|  TIPT|\n",
      "| 18|March 31, 2013| 1.305|debt_to_equity|  TIPT|\n",
      "| 19| Dec. 31, 2012|0.9273|debt_to_equity|  TIPT|\n",
      "+---+--------------+------+--------------+------+\n",
      "only showing top 20 rows\n",
      "\n"
     ]
    }
   ],
   "source": [
    "x.show()"
   ]
  },
  {
   "cell_type": "markdown",
   "metadata": {},
   "source": [
    "# Export"
   ]
  },
  {
   "cell_type": "code",
   "execution_count": 13,
   "metadata": {},
   "outputs": [],
   "source": [
    "spark_export = SparkSession.builder.appName('output').getOrCreate()"
   ]
  },
  {
   "cell_type": "code",
   "execution_count": 14,
   "metadata": {},
   "outputs": [],
   "source": [
    "df = spark.createDataFrame([(0,'a'),\n",
    "                           (1,'b')],\n",
    "                           ['id','letter'])"
   ]
  },
  {
   "cell_type": "code",
   "execution_count": 16,
   "metadata": {},
   "outputs": [
    {
     "name": "stdout",
     "output_type": "stream",
     "text": [
      "+---+------+\n",
      "| id|letter|\n",
      "+---+------+\n",
      "|  0|     a|\n",
      "|  1|     b|\n",
      "+---+------+\n",
      "\n"
     ]
    }
   ],
   "source": [
    "df.show()"
   ]
  },
  {
   "cell_type": "code",
   "execution_count": 17,
   "metadata": {},
   "outputs": [],
   "source": [
    "df.write.csv(\"spark_test.csv\",header=True)"
   ]
  },
  {
   "cell_type": "code",
   "execution_count": 18,
   "metadata": {},
   "outputs": [],
   "source": [
    "mynewdf = spark.read.csv(\"spark_test.csv\",\n",
    "                        header=True,\n",
    "                        inferSchema=True)"
   ]
  },
  {
   "cell_type": "code",
   "execution_count": 19,
   "metadata": {},
   "outputs": [
    {
     "name": "stdout",
     "output_type": "stream",
     "text": [
      "+---+------+\n",
      "| id|letter|\n",
      "+---+------+\n",
      "|  0|     a|\n",
      "|  1|     b|\n",
      "+---+------+\n",
      "\n"
     ]
    }
   ],
   "source": [
    "mynewdf.show()"
   ]
  },
  {
   "cell_type": "markdown",
   "metadata": {},
   "source": [
    "# Getting DF Info"
   ]
  },
  {
   "cell_type": "markdown",
   "metadata": {},
   "source": [
    "## Head"
   ]
  },
  {
   "cell_type": "code",
   "execution_count": 20,
   "metadata": {},
   "outputs": [
    {
     "name": "stdout",
     "output_type": "stream",
     "text": [
      "+---+--------------+------+--------------+------+\n",
      "|_c0|         Dates|Values|        metric|ticker|\n",
      "+---+--------------+------+--------------+------+\n",
      "|  0|Sept. 30, 2017| 4.084|debt_to_equity|  TIPT|\n",
      "|  1| June 30, 2017| 4.483|debt_to_equity|  TIPT|\n",
      "|  2|March 31, 2017| 4.290|debt_to_equity|  TIPT|\n",
      "|  3| Dec. 31, 2016| 2.702|debt_to_equity|  TIPT|\n",
      "|  4|Sept. 30, 2016| 5.935|debt_to_equity|  TIPT|\n",
      "|  5| June 30, 2016| 2.279|debt_to_equity|  TIPT|\n",
      "|  6|March 31, 2016| 2.240|debt_to_equity|  TIPT|\n",
      "|  7| Dec. 31, 2015| 2.132|debt_to_equity|  TIPT|\n",
      "|  8|Sept. 30, 2015| 1.957|debt_to_equity|  TIPT|\n",
      "|  9| June 30, 2015| 1.565|debt_to_equity|  TIPT|\n",
      "| 10|March 31, 2015| 1.658|debt_to_equity|  TIPT|\n",
      "| 11| Dec. 31, 2014| 1.277|debt_to_equity|  TIPT|\n",
      "| 12|Sept. 30, 2014| 1.364|debt_to_equity|  TIPT|\n",
      "| 13| June 30, 2014| 2.326|debt_to_equity|  TIPT|\n",
      "| 14|March 31, 2014| 1.881|debt_to_equity|  TIPT|\n",
      "| 15| Dec. 31, 2013| 2.724|debt_to_equity|  TIPT|\n",
      "| 16|Sept. 30, 2013| 1.186|debt_to_equity|  TIPT|\n",
      "| 17| June 30, 2013|0.3325|debt_to_equity|  TIPT|\n",
      "| 18|March 31, 2013| 1.305|debt_to_equity|  TIPT|\n",
      "| 19| Dec. 31, 2012|0.9273|debt_to_equity|  TIPT|\n",
      "+---+--------------+------+--------------+------+\n",
      "only showing top 20 rows\n",
      "\n"
     ]
    }
   ],
   "source": [
    "x.show()"
   ]
  },
  {
   "cell_type": "markdown",
   "metadata": {},
   "source": [
    "## Schema"
   ]
  },
  {
   "cell_type": "code",
   "execution_count": 21,
   "metadata": {},
   "outputs": [
    {
     "name": "stdout",
     "output_type": "stream",
     "text": [
      "root\n",
      " |-- _c0: integer (nullable = true)\n",
      " |-- Dates: string (nullable = true)\n",
      " |-- Values: string (nullable = true)\n",
      " |-- metric: string (nullable = true)\n",
      " |-- ticker: string (nullable = true)\n",
      "\n"
     ]
    }
   ],
   "source": [
    "x.printSchema()"
   ]
  },
  {
   "cell_type": "markdown",
   "metadata": {},
   "source": [
    "## Describe"
   ]
  },
  {
   "cell_type": "code",
   "execution_count": 22,
   "metadata": {},
   "outputs": [
    {
     "name": "stdout",
     "output_type": "stream",
     "text": [
      "+-------+------------------+-------------+------------------+------------------+-------+\n",
      "|summary|               _c0|        Dates|            Values|            metric| ticker|\n",
      "+-------+------------------+-------------+------------------+------------------+-------+\n",
      "|  count|           1263275|      1263275|           1240717|           1263275|1263275|\n",
      "|   mean|10.894107775424986|         null|16.326433151026823|              null|   null|\n",
      "| stddev| 7.192557673812945|         null| 986.1591955989774|              null|   null|\n",
      "|    min|                 0|April 1, 2011|            -0.00%| asset_utilization|    AAC|\n",
      "|    max|                24|Sept. 9, 2017|           999.96M|shares_outstanding|   ZYNE|\n",
      "+-------+------------------+-------------+------------------+------------------+-------+\n",
      "\n"
     ]
    }
   ],
   "source": [
    "x.describe().show()"
   ]
  },
  {
   "cell_type": "markdown",
   "metadata": {},
   "source": [
    "# Select"
   ]
  },
  {
   "cell_type": "code",
   "execution_count": 24,
   "metadata": {},
   "outputs": [
    {
     "name": "stdout",
     "output_type": "stream",
     "text": [
      "+------+\n",
      "|ticker|\n",
      "+------+\n",
      "|  TIPT|\n",
      "|  TIPT|\n",
      "|  TIPT|\n",
      "|  TIPT|\n",
      "|  TIPT|\n",
      "|  TIPT|\n",
      "|  TIPT|\n",
      "|  TIPT|\n",
      "|  TIPT|\n",
      "|  TIPT|\n",
      "|  TIPT|\n",
      "|  TIPT|\n",
      "|  TIPT|\n",
      "|  TIPT|\n",
      "|  TIPT|\n",
      "|  TIPT|\n",
      "|  TIPT|\n",
      "|  TIPT|\n",
      "|  TIPT|\n",
      "|  TIPT|\n",
      "+------+\n",
      "only showing top 20 rows\n",
      "\n"
     ]
    }
   ],
   "source": [
    "x.select('ticker').show()"
   ]
  },
  {
   "cell_type": "code",
   "execution_count": 27,
   "metadata": {},
   "outputs": [
    {
     "name": "stdout",
     "output_type": "stream",
     "text": [
      "+------+--------------+\n",
      "|ticker|        metric|\n",
      "+------+--------------+\n",
      "|  TIPT|debt_to_equity|\n",
      "|  TIPT|debt_to_equity|\n",
      "|  TIPT|debt_to_equity|\n",
      "|  TIPT|debt_to_equity|\n",
      "|  TIPT|debt_to_equity|\n",
      "|  TIPT|debt_to_equity|\n",
      "|  TIPT|debt_to_equity|\n",
      "|  TIPT|debt_to_equity|\n",
      "|  TIPT|debt_to_equity|\n",
      "|  TIPT|debt_to_equity|\n",
      "|  TIPT|debt_to_equity|\n",
      "|  TIPT|debt_to_equity|\n",
      "|  TIPT|debt_to_equity|\n",
      "|  TIPT|debt_to_equity|\n",
      "|  TIPT|debt_to_equity|\n",
      "|  TIPT|debt_to_equity|\n",
      "|  TIPT|debt_to_equity|\n",
      "|  TIPT|debt_to_equity|\n",
      "|  TIPT|debt_to_equity|\n",
      "|  TIPT|debt_to_equity|\n",
      "+------+--------------+\n",
      "only showing top 20 rows\n",
      "\n"
     ]
    }
   ],
   "source": [
    "x.select(['ticker','metric']).show()"
   ]
  },
  {
   "cell_type": "markdown",
   "metadata": {},
   "source": [
    "# Create Col"
   ]
  },
  {
   "cell_type": "code",
   "execution_count": 28,
   "metadata": {},
   "outputs": [
    {
     "name": "stdout",
     "output_type": "stream",
     "text": [
      "+---+--------------+------+--------------+------+---------+\n",
      "|_c0|         Dates|Values|        metric|ticker|newticker|\n",
      "+---+--------------+------+--------------+------+---------+\n",
      "|  0|Sept. 30, 2017| 4.084|debt_to_equity|  TIPT|     TIPT|\n",
      "|  1| June 30, 2017| 4.483|debt_to_equity|  TIPT|     TIPT|\n",
      "|  2|March 31, 2017| 4.290|debt_to_equity|  TIPT|     TIPT|\n",
      "|  3| Dec. 31, 2016| 2.702|debt_to_equity|  TIPT|     TIPT|\n",
      "|  4|Sept. 30, 2016| 5.935|debt_to_equity|  TIPT|     TIPT|\n",
      "|  5| June 30, 2016| 2.279|debt_to_equity|  TIPT|     TIPT|\n",
      "|  6|March 31, 2016| 2.240|debt_to_equity|  TIPT|     TIPT|\n",
      "|  7| Dec. 31, 2015| 2.132|debt_to_equity|  TIPT|     TIPT|\n",
      "|  8|Sept. 30, 2015| 1.957|debt_to_equity|  TIPT|     TIPT|\n",
      "|  9| June 30, 2015| 1.565|debt_to_equity|  TIPT|     TIPT|\n",
      "| 10|March 31, 2015| 1.658|debt_to_equity|  TIPT|     TIPT|\n",
      "| 11| Dec. 31, 2014| 1.277|debt_to_equity|  TIPT|     TIPT|\n",
      "| 12|Sept. 30, 2014| 1.364|debt_to_equity|  TIPT|     TIPT|\n",
      "| 13| June 30, 2014| 2.326|debt_to_equity|  TIPT|     TIPT|\n",
      "| 14|March 31, 2014| 1.881|debt_to_equity|  TIPT|     TIPT|\n",
      "| 15| Dec. 31, 2013| 2.724|debt_to_equity|  TIPT|     TIPT|\n",
      "| 16|Sept. 30, 2013| 1.186|debt_to_equity|  TIPT|     TIPT|\n",
      "| 17| June 30, 2013|0.3325|debt_to_equity|  TIPT|     TIPT|\n",
      "| 18|March 31, 2013| 1.305|debt_to_equity|  TIPT|     TIPT|\n",
      "| 19| Dec. 31, 2012|0.9273|debt_to_equity|  TIPT|     TIPT|\n",
      "+---+--------------+------+--------------+------+---------+\n",
      "only showing top 20 rows\n",
      "\n"
     ]
    }
   ],
   "source": [
    "x.withColumn('newticker',x['ticker']).show()"
   ]
  },
  {
   "cell_type": "markdown",
   "metadata": {},
   "source": [
    "# Rename"
   ]
  },
  {
   "cell_type": "code",
   "execution_count": 29,
   "metadata": {},
   "outputs": [
    {
     "name": "stdout",
     "output_type": "stream",
     "text": [
      "+---+--------------+------+--------------+---------+\n",
      "|_c0|         Dates|Values|        metric|newticker|\n",
      "+---+--------------+------+--------------+---------+\n",
      "|  0|Sept. 30, 2017| 4.084|debt_to_equity|     TIPT|\n",
      "|  1| June 30, 2017| 4.483|debt_to_equity|     TIPT|\n",
      "|  2|March 31, 2017| 4.290|debt_to_equity|     TIPT|\n",
      "|  3| Dec. 31, 2016| 2.702|debt_to_equity|     TIPT|\n",
      "|  4|Sept. 30, 2016| 5.935|debt_to_equity|     TIPT|\n",
      "|  5| June 30, 2016| 2.279|debt_to_equity|     TIPT|\n",
      "|  6|March 31, 2016| 2.240|debt_to_equity|     TIPT|\n",
      "|  7| Dec. 31, 2015| 2.132|debt_to_equity|     TIPT|\n",
      "|  8|Sept. 30, 2015| 1.957|debt_to_equity|     TIPT|\n",
      "|  9| June 30, 2015| 1.565|debt_to_equity|     TIPT|\n",
      "| 10|March 31, 2015| 1.658|debt_to_equity|     TIPT|\n",
      "| 11| Dec. 31, 2014| 1.277|debt_to_equity|     TIPT|\n",
      "| 12|Sept. 30, 2014| 1.364|debt_to_equity|     TIPT|\n",
      "| 13| June 30, 2014| 2.326|debt_to_equity|     TIPT|\n",
      "| 14|March 31, 2014| 1.881|debt_to_equity|     TIPT|\n",
      "| 15| Dec. 31, 2013| 2.724|debt_to_equity|     TIPT|\n",
      "| 16|Sept. 30, 2013| 1.186|debt_to_equity|     TIPT|\n",
      "| 17| June 30, 2013|0.3325|debt_to_equity|     TIPT|\n",
      "| 18|March 31, 2013| 1.305|debt_to_equity|     TIPT|\n",
      "| 19| Dec. 31, 2012|0.9273|debt_to_equity|     TIPT|\n",
      "+---+--------------+------+--------------+---------+\n",
      "only showing top 20 rows\n",
      "\n"
     ]
    }
   ],
   "source": [
    "x.withColumnRenamed('ticker','newticker').show()"
   ]
  },
  {
   "cell_type": "markdown",
   "metadata": {},
   "source": [
    "# Calculated Columns"
   ]
  },
  {
   "cell_type": "code",
   "execution_count": 33,
   "metadata": {},
   "outputs": [
    {
     "name": "stdout",
     "output_type": "stream",
     "text": [
      "+---+--------------+------+--------------+------+----------+\n",
      "|_c0|         Dates|Values|        metric|ticker|dbl_metric|\n",
      "+---+--------------+------+--------------+------+----------+\n",
      "|  0|Sept. 30, 2017| 4.084|debt_to_equity|  TIPT|     8.168|\n",
      "|  1| June 30, 2017| 4.483|debt_to_equity|  TIPT|     8.966|\n",
      "|  2|March 31, 2017| 4.290|debt_to_equity|  TIPT|      8.58|\n",
      "|  3| Dec. 31, 2016| 2.702|debt_to_equity|  TIPT|     5.404|\n",
      "|  4|Sept. 30, 2016| 5.935|debt_to_equity|  TIPT|     11.87|\n",
      "|  5| June 30, 2016| 2.279|debt_to_equity|  TIPT|     4.558|\n",
      "|  6|March 31, 2016| 2.240|debt_to_equity|  TIPT|      4.48|\n",
      "|  7| Dec. 31, 2015| 2.132|debt_to_equity|  TIPT|     4.264|\n",
      "|  8|Sept. 30, 2015| 1.957|debt_to_equity|  TIPT|     3.914|\n",
      "|  9| June 30, 2015| 1.565|debt_to_equity|  TIPT|      3.13|\n",
      "| 10|March 31, 2015| 1.658|debt_to_equity|  TIPT|     3.316|\n",
      "| 11| Dec. 31, 2014| 1.277|debt_to_equity|  TIPT|     2.554|\n",
      "| 12|Sept. 30, 2014| 1.364|debt_to_equity|  TIPT|     2.728|\n",
      "| 13| June 30, 2014| 2.326|debt_to_equity|  TIPT|     4.652|\n",
      "| 14|March 31, 2014| 1.881|debt_to_equity|  TIPT|     3.762|\n",
      "| 15| Dec. 31, 2013| 2.724|debt_to_equity|  TIPT|     5.448|\n",
      "| 16|Sept. 30, 2013| 1.186|debt_to_equity|  TIPT|     2.372|\n",
      "| 17| June 30, 2013|0.3325|debt_to_equity|  TIPT|     0.665|\n",
      "| 18|March 31, 2013| 1.305|debt_to_equity|  TIPT|      2.61|\n",
      "| 19| Dec. 31, 2012|0.9273|debt_to_equity|  TIPT|    1.8546|\n",
      "+---+--------------+------+--------------+------+----------+\n",
      "only showing top 20 rows\n",
      "\n"
     ]
    }
   ],
   "source": [
    "x.withColumn('dbl_metric',x['Values']*2).show()"
   ]
  },
  {
   "cell_type": "code",
   "execution_count": 38,
   "metadata": {},
   "outputs": [
    {
     "name": "stdout",
     "output_type": "stream",
     "text": [
      "+---+--------------+------+--------------+------+------------------+\n",
      "|_c0|         Dates|Values|        metric|ticker|        dbl_metric|\n",
      "+---+--------------+------+--------------+------+------------------+\n",
      "|  0|Sept. 30, 2017| 4.084|debt_to_equity|  TIPT|             6.084|\n",
      "|  1| June 30, 2017| 4.483|debt_to_equity|  TIPT|             6.483|\n",
      "|  2|March 31, 2017| 4.290|debt_to_equity|  TIPT|              6.29|\n",
      "|  3| Dec. 31, 2016| 2.702|debt_to_equity|  TIPT|             4.702|\n",
      "|  4|Sept. 30, 2016| 5.935|debt_to_equity|  TIPT|             7.935|\n",
      "|  5| June 30, 2016| 2.279|debt_to_equity|  TIPT|             4.279|\n",
      "|  6|March 31, 2016| 2.240|debt_to_equity|  TIPT|              4.24|\n",
      "|  7| Dec. 31, 2015| 2.132|debt_to_equity|  TIPT|             4.132|\n",
      "|  8|Sept. 30, 2015| 1.957|debt_to_equity|  TIPT|             3.957|\n",
      "|  9| June 30, 2015| 1.565|debt_to_equity|  TIPT|             3.565|\n",
      "| 10|March 31, 2015| 1.658|debt_to_equity|  TIPT|             3.658|\n",
      "| 11| Dec. 31, 2014| 1.277|debt_to_equity|  TIPT|             3.277|\n",
      "| 12|Sept. 30, 2014| 1.364|debt_to_equity|  TIPT|             3.364|\n",
      "| 13| June 30, 2014| 2.326|debt_to_equity|  TIPT|4.3260000000000005|\n",
      "| 14|March 31, 2014| 1.881|debt_to_equity|  TIPT|3.8810000000000002|\n",
      "| 15| Dec. 31, 2013| 2.724|debt_to_equity|  TIPT|             4.724|\n",
      "| 16|Sept. 30, 2013| 1.186|debt_to_equity|  TIPT|             3.186|\n",
      "| 17| June 30, 2013|0.3325|debt_to_equity|  TIPT|            2.3325|\n",
      "| 18|March 31, 2013| 1.305|debt_to_equity|  TIPT|3.3049999999999997|\n",
      "| 19| Dec. 31, 2012|0.9273|debt_to_equity|  TIPT|            2.9273|\n",
      "+---+--------------+------+--------------+------+------------------+\n",
      "only showing top 20 rows\n",
      "\n"
     ]
    }
   ],
   "source": [
    "x.withColumn('dbl_metric',x['Values']+2).show()"
   ]
  },
  {
   "cell_type": "code",
   "execution_count": 39,
   "metadata": {},
   "outputs": [],
   "source": [
    "new_x = x.withColumn('dbl_metric',x['Values']+2)"
   ]
  },
  {
   "cell_type": "code",
   "execution_count": 40,
   "metadata": {},
   "outputs": [
    {
     "name": "stdout",
     "output_type": "stream",
     "text": [
      "+---+--------------+------+--------------+------+------------------+\n",
      "|_c0|         Dates|Values|        metric|ticker|        dbl_metric|\n",
      "+---+--------------+------+--------------+------+------------------+\n",
      "|  0|Sept. 30, 2017| 4.084|debt_to_equity|  TIPT|             6.084|\n",
      "|  1| June 30, 2017| 4.483|debt_to_equity|  TIPT|             6.483|\n",
      "|  2|March 31, 2017| 4.290|debt_to_equity|  TIPT|              6.29|\n",
      "|  3| Dec. 31, 2016| 2.702|debt_to_equity|  TIPT|             4.702|\n",
      "|  4|Sept. 30, 2016| 5.935|debt_to_equity|  TIPT|             7.935|\n",
      "|  5| June 30, 2016| 2.279|debt_to_equity|  TIPT|             4.279|\n",
      "|  6|March 31, 2016| 2.240|debt_to_equity|  TIPT|              4.24|\n",
      "|  7| Dec. 31, 2015| 2.132|debt_to_equity|  TIPT|             4.132|\n",
      "|  8|Sept. 30, 2015| 1.957|debt_to_equity|  TIPT|             3.957|\n",
      "|  9| June 30, 2015| 1.565|debt_to_equity|  TIPT|             3.565|\n",
      "| 10|March 31, 2015| 1.658|debt_to_equity|  TIPT|             3.658|\n",
      "| 11| Dec. 31, 2014| 1.277|debt_to_equity|  TIPT|             3.277|\n",
      "| 12|Sept. 30, 2014| 1.364|debt_to_equity|  TIPT|             3.364|\n",
      "| 13| June 30, 2014| 2.326|debt_to_equity|  TIPT|4.3260000000000005|\n",
      "| 14|March 31, 2014| 1.881|debt_to_equity|  TIPT|3.8810000000000002|\n",
      "| 15| Dec. 31, 2013| 2.724|debt_to_equity|  TIPT|             4.724|\n",
      "| 16|Sept. 30, 2013| 1.186|debt_to_equity|  TIPT|             3.186|\n",
      "| 17| June 30, 2013|0.3325|debt_to_equity|  TIPT|            2.3325|\n",
      "| 18|March 31, 2013| 1.305|debt_to_equity|  TIPT|3.3049999999999997|\n",
      "| 19| Dec. 31, 2012|0.9273|debt_to_equity|  TIPT|            2.9273|\n",
      "+---+--------------+------+--------------+------+------------------+\n",
      "only showing top 20 rows\n",
      "\n"
     ]
    }
   ],
   "source": [
    "new_x.show()"
   ]
  },
  {
   "cell_type": "markdown",
   "metadata": {},
   "source": [
    "# SQL"
   ]
  },
  {
   "cell_type": "code",
   "execution_count": 41,
   "metadata": {},
   "outputs": [],
   "source": [
    "x.createOrReplaceTempView('stocks')"
   ]
  },
  {
   "cell_type": "code",
   "execution_count": 42,
   "metadata": {},
   "outputs": [],
   "source": [
    "sql_results = spark.sql(\"select * from stocks\")"
   ]
  },
  {
   "cell_type": "code",
   "execution_count": 43,
   "metadata": {},
   "outputs": [
    {
     "name": "stdout",
     "output_type": "stream",
     "text": [
      "+---+--------------+------+--------------+------+\n",
      "|_c0|         Dates|Values|        metric|ticker|\n",
      "+---+--------------+------+--------------+------+\n",
      "|  0|Sept. 30, 2017| 4.084|debt_to_equity|  TIPT|\n",
      "|  1| June 30, 2017| 4.483|debt_to_equity|  TIPT|\n",
      "|  2|March 31, 2017| 4.290|debt_to_equity|  TIPT|\n",
      "|  3| Dec. 31, 2016| 2.702|debt_to_equity|  TIPT|\n",
      "|  4|Sept. 30, 2016| 5.935|debt_to_equity|  TIPT|\n",
      "|  5| June 30, 2016| 2.279|debt_to_equity|  TIPT|\n",
      "|  6|March 31, 2016| 2.240|debt_to_equity|  TIPT|\n",
      "|  7| Dec. 31, 2015| 2.132|debt_to_equity|  TIPT|\n",
      "|  8|Sept. 30, 2015| 1.957|debt_to_equity|  TIPT|\n",
      "|  9| June 30, 2015| 1.565|debt_to_equity|  TIPT|\n",
      "| 10|March 31, 2015| 1.658|debt_to_equity|  TIPT|\n",
      "| 11| Dec. 31, 2014| 1.277|debt_to_equity|  TIPT|\n",
      "| 12|Sept. 30, 2014| 1.364|debt_to_equity|  TIPT|\n",
      "| 13| June 30, 2014| 2.326|debt_to_equity|  TIPT|\n",
      "| 14|March 31, 2014| 1.881|debt_to_equity|  TIPT|\n",
      "| 15| Dec. 31, 2013| 2.724|debt_to_equity|  TIPT|\n",
      "| 16|Sept. 30, 2013| 1.186|debt_to_equity|  TIPT|\n",
      "| 17| June 30, 2013|0.3325|debt_to_equity|  TIPT|\n",
      "| 18|March 31, 2013| 1.305|debt_to_equity|  TIPT|\n",
      "| 19| Dec. 31, 2012|0.9273|debt_to_equity|  TIPT|\n",
      "+---+--------------+------+--------------+------+\n",
      "only showing top 20 rows\n",
      "\n"
     ]
    }
   ],
   "source": [
    "sql_results.show()"
   ]
  },
  {
   "cell_type": "code",
   "execution_count": 45,
   "metadata": {},
   "outputs": [
    {
     "name": "stdout",
     "output_type": "stream",
     "text": [
      "+---+--------------+------+--------------+------+\n",
      "|_c0|         Dates|Values|        metric|ticker|\n",
      "+---+--------------+------+--------------+------+\n",
      "|  0|Sept. 30, 2017| 4.084|debt_to_equity|  TIPT|\n",
      "|  1| June 30, 2017| 4.483|debt_to_equity|  TIPT|\n",
      "|  2|March 31, 2017| 4.290|debt_to_equity|  TIPT|\n",
      "|  3| Dec. 31, 2016| 2.702|debt_to_equity|  TIPT|\n",
      "|  4|Sept. 30, 2016| 5.935|debt_to_equity|  TIPT|\n",
      "|  5| June 30, 2016| 2.279|debt_to_equity|  TIPT|\n",
      "|  6|March 31, 2016| 2.240|debt_to_equity|  TIPT|\n",
      "|  7| Dec. 31, 2015| 2.132|debt_to_equity|  TIPT|\n",
      "|  8|Sept. 30, 2015| 1.957|debt_to_equity|  TIPT|\n",
      "|  9| June 30, 2015| 1.565|debt_to_equity|  TIPT|\n",
      "| 10|March 31, 2015| 1.658|debt_to_equity|  TIPT|\n",
      "| 11| Dec. 31, 2014| 1.277|debt_to_equity|  TIPT|\n",
      "| 12|Sept. 30, 2014| 1.364|debt_to_equity|  TIPT|\n",
      "| 13| June 30, 2014| 2.326|debt_to_equity|  TIPT|\n",
      "| 14|March 31, 2014| 1.881|debt_to_equity|  TIPT|\n",
      "| 15| Dec. 31, 2013| 2.724|debt_to_equity|  TIPT|\n",
      "| 16|Sept. 30, 2013| 1.186|debt_to_equity|  TIPT|\n",
      "| 17| June 30, 2013|0.3325|debt_to_equity|  TIPT|\n",
      "| 18|March 31, 2013| 1.305|debt_to_equity|  TIPT|\n",
      "| 19| Dec. 31, 2012|0.9273|debt_to_equity|  TIPT|\n",
      "+---+--------------+------+--------------+------+\n",
      "only showing top 20 rows\n",
      "\n"
     ]
    }
   ],
   "source": [
    "spark.sql(\"select * from stocks where ticker = 'TIPT'\").show()"
   ]
  },
  {
   "cell_type": "markdown",
   "metadata": {},
   "source": [
    "# Filtering"
   ]
  },
  {
   "cell_type": "markdown",
   "metadata": {},
   "source": [
    "## With SQL syntax"
   ]
  },
  {
   "cell_type": "code",
   "execution_count": 48,
   "metadata": {},
   "outputs": [
    {
     "name": "stdout",
     "output_type": "stream",
     "text": [
      "+---+--------------+------+--------------+------+\n",
      "|_c0|         Dates|Values|        metric|ticker|\n",
      "+---+--------------+------+--------------+------+\n",
      "|  0|Sept. 30, 2017| 4.084|debt_to_equity|  TIPT|\n",
      "|  1| June 30, 2017| 4.483|debt_to_equity|  TIPT|\n",
      "|  2|March 31, 2017| 4.290|debt_to_equity|  TIPT|\n",
      "|  3| Dec. 31, 2016| 2.702|debt_to_equity|  TIPT|\n",
      "|  4|Sept. 30, 2016| 5.935|debt_to_equity|  TIPT|\n",
      "|  5| June 30, 2016| 2.279|debt_to_equity|  TIPT|\n",
      "|  6|March 31, 2016| 2.240|debt_to_equity|  TIPT|\n",
      "|  7| Dec. 31, 2015| 2.132|debt_to_equity|  TIPT|\n",
      "|  8|Sept. 30, 2015| 1.957|debt_to_equity|  TIPT|\n",
      "|  9| June 30, 2015| 1.565|debt_to_equity|  TIPT|\n",
      "| 10|March 31, 2015| 1.658|debt_to_equity|  TIPT|\n",
      "| 11| Dec. 31, 2014| 1.277|debt_to_equity|  TIPT|\n",
      "| 12|Sept. 30, 2014| 1.364|debt_to_equity|  TIPT|\n",
      "| 13| June 30, 2014| 2.326|debt_to_equity|  TIPT|\n",
      "| 14|March 31, 2014| 1.881|debt_to_equity|  TIPT|\n",
      "| 15| Dec. 31, 2013| 2.724|debt_to_equity|  TIPT|\n",
      "| 16|Sept. 30, 2013| 1.186|debt_to_equity|  TIPT|\n",
      "| 17| June 30, 2013|0.3325|debt_to_equity|  TIPT|\n",
      "| 18|March 31, 2013| 1.305|debt_to_equity|  TIPT|\n",
      "| 19| Dec. 31, 2012|0.9273|debt_to_equity|  TIPT|\n",
      "+---+--------------+------+--------------+------+\n",
      "only showing top 20 rows\n",
      "\n"
     ]
    }
   ],
   "source": [
    "x.filter(\"metric = 'debt_to_equity'\").show()"
   ]
  },
  {
   "cell_type": "code",
   "execution_count": 50,
   "metadata": {},
   "outputs": [
    {
     "name": "stdout",
     "output_type": "stream",
     "text": [
      "+------+\n",
      "|Values|\n",
      "+------+\n",
      "| 4.084|\n",
      "| 4.483|\n",
      "| 4.290|\n",
      "| 2.702|\n",
      "| 5.935|\n",
      "| 2.279|\n",
      "| 2.240|\n",
      "| 2.132|\n",
      "| 1.957|\n",
      "| 1.565|\n",
      "| 1.658|\n",
      "| 1.277|\n",
      "| 1.364|\n",
      "| 2.326|\n",
      "| 1.881|\n",
      "| 2.724|\n",
      "| 1.186|\n",
      "|0.3325|\n",
      "| 1.305|\n",
      "|0.9273|\n",
      "+------+\n",
      "only showing top 20 rows\n",
      "\n"
     ]
    }
   ],
   "source": [
    "(x\n",
    " .filter(\"metric = 'debt_to_equity'\")\n",
    " .select('Values')\n",
    " .show())"
   ]
  },
  {
   "cell_type": "markdown",
   "metadata": {},
   "source": [
    "## With Python Syntax"
   ]
  },
  {
   "cell_type": "code",
   "execution_count": 67,
   "metadata": {},
   "outputs": [
    {
     "name": "stdout",
     "output_type": "stream",
     "text": [
      "+---+--------------+------+--------------+------+\n",
      "|_c0|         Dates|Values|        metric|ticker|\n",
      "+---+--------------+------+--------------+------+\n",
      "|  0|Sept. 30, 2017| 4.084|debt_to_equity|  TIPT|\n",
      "|  0|Sept. 30, 2017|0.3323|debt_to_equity|  PFBC|\n",
      "|  1|Sept. 30, 2017|0.2652|debt_to_equity|   MTG|\n",
      "|  1|Sept. 30, 2017| 1.531|debt_to_equity|   CVI|\n",
      "|  0|Sept. 30, 2017| 1.316|debt_to_equity|   TIS|\n",
      "|  1|Sept. 30, 2017| 9.868|debt_to_equity|   CMO|\n",
      "|  1|Sept. 30, 2017| 1.394|debt_to_equity|   TCS|\n",
      "|  0|Sept. 30, 2017|0.0095|debt_to_equity|  AVDL|\n",
      "|  1|Sept. 30, 2017|0.0793|debt_to_equity|   CBU|\n",
      "|  1|Sept. 30, 2017|0.4374|debt_to_equity|   EDR|\n",
      "|  1|Sept. 30, 2017|0.2828|debt_to_equity|   ALG|\n",
      "|  1|Sept. 30, 2017|0.6061|debt_to_equity|   FBP|\n",
      "|  1|Sept. 30, 2017|0.8585|debt_to_equity|   WWE|\n",
      "|  1|Sept. 30, 2017| 0.295|debt_to_equity|  PMBC|\n",
      "|  1|Sept. 30, 2017|0.3327|debt_to_equity|  SYKE|\n",
      "|  1|Sept. 30, 2017| 2.832|debt_to_equity|  ONDK|\n",
      "|  1|Sept. 30, 2017|0.5776|debt_to_equity|  TVTY|\n",
      "|  1|Sept. 30, 2017|0.8437|debt_to_equity|  CHSP|\n",
      "|  1|Sept. 30, 2017|0.8311|debt_to_equity|  TDOC|\n",
      "|  1|Sept. 30, 2017|0.1011|debt_to_equity|   KNX|\n",
      "+---+--------------+------+--------------+------+\n",
      "only showing top 20 rows\n",
      "\n"
     ]
    }
   ],
   "source": [
    "(x.filter(\n",
    "    (x['metric'] == 'debt_to_equity') & \\\n",
    "    (x['Dates'] == 'Sept. 30, 2017')) \n",
    " .show())"
   ]
  },
  {
   "cell_type": "code",
   "execution_count": 68,
   "metadata": {},
   "outputs": [
    {
     "name": "stdout",
     "output_type": "stream",
     "text": [
      "+---+--------------+------+--------------+------+\n",
      "|_c0|         Dates|Values|        metric|ticker|\n",
      "+---+--------------+------+--------------+------+\n",
      "|  0|Sept. 30, 2017| 4.084|debt_to_equity|  TIPT|\n",
      "|  1| June 30, 2017| 4.483|debt_to_equity|  TIPT|\n",
      "|  2|March 31, 2017| 4.290|debt_to_equity|  TIPT|\n",
      "|  3| Dec. 31, 2016| 2.702|debt_to_equity|  TIPT|\n",
      "|  4|Sept. 30, 2016| 5.935|debt_to_equity|  TIPT|\n",
      "|  5| June 30, 2016| 2.279|debt_to_equity|  TIPT|\n",
      "|  6|March 31, 2016| 2.240|debt_to_equity|  TIPT|\n",
      "|  7| Dec. 31, 2015| 2.132|debt_to_equity|  TIPT|\n",
      "|  8|Sept. 30, 2015| 1.957|debt_to_equity|  TIPT|\n",
      "|  9| June 30, 2015| 1.565|debt_to_equity|  TIPT|\n",
      "| 10|March 31, 2015| 1.658|debt_to_equity|  TIPT|\n",
      "| 11| Dec. 31, 2014| 1.277|debt_to_equity|  TIPT|\n",
      "| 12|Sept. 30, 2014| 1.364|debt_to_equity|  TIPT|\n",
      "| 13| June 30, 2014| 2.326|debt_to_equity|  TIPT|\n",
      "| 14|March 31, 2014| 1.881|debt_to_equity|  TIPT|\n",
      "| 15| Dec. 31, 2013| 2.724|debt_to_equity|  TIPT|\n",
      "| 16|Sept. 30, 2013| 1.186|debt_to_equity|  TIPT|\n",
      "| 17| June 30, 2013|0.3325|debt_to_equity|  TIPT|\n",
      "| 18|March 31, 2013| 1.305|debt_to_equity|  TIPT|\n",
      "| 19| Dec. 31, 2012|0.9273|debt_to_equity|  TIPT|\n",
      "+---+--------------+------+--------------+------+\n",
      "only showing top 20 rows\n",
      "\n"
     ]
    }
   ],
   "source": [
    "(x.filter(\n",
    "    (x['metric'] == 'debt_to_equity') | \\\n",
    "    (x['Dates'] == 'Sept. 30, 2017')) \n",
    " .show())"
   ]
  },
  {
   "cell_type": "markdown",
   "metadata": {},
   "source": [
    "# Caching Results"
   ]
  },
  {
   "cell_type": "code",
   "execution_count": 69,
   "metadata": {},
   "outputs": [],
   "source": [
    "result = (x.filter(\n",
    "    (x['metric'] == 'debt_to_equity') | \\\n",
    "    (x['Dates'] == 'Sept. 30, 2017')) \n",
    " .collect())"
   ]
  },
  {
   "cell_type": "code",
   "execution_count": 70,
   "metadata": {},
   "outputs": [
    {
     "data": {
      "text/plain": [
       "list"
      ]
     },
     "execution_count": 70,
     "metadata": {},
     "output_type": "execute_result"
    }
   ],
   "source": [
    "type(result)"
   ]
  },
  {
   "cell_type": "code",
   "execution_count": 77,
   "metadata": {},
   "outputs": [
    {
     "data": {
      "text/plain": [
       "Row(_c0=1, Dates='June 30, 2017', Values='4.483', metric='debt_to_equity', ticker='TIPT')"
      ]
     },
     "execution_count": 77,
     "metadata": {},
     "output_type": "execute_result"
    }
   ],
   "source": [
    "result[1]"
   ]
  },
  {
   "cell_type": "markdown",
   "metadata": {},
   "source": [
    "# Dates & Times"
   ]
  },
  {
   "cell_type": "code",
   "execution_count": 78,
   "metadata": {},
   "outputs": [
    {
     "data": {
      "text/plain": [
       "Row(_c0=0, Dates='Sept. 30, 2017', Values='4.084', metric='debt_to_equity', ticker='TIPT')"
      ]
     },
     "execution_count": 78,
     "metadata": {},
     "output_type": "execute_result"
    }
   ],
   "source": [
    "x.head()"
   ]
  },
  {
   "cell_type": "code",
   "execution_count": 84,
   "metadata": {},
   "outputs": [],
   "source": [
    "from pyspark.sql.functions import dayofmonth,\\\n",
    "dayofyear,weekofyear,date_format,unix_timestamp"
   ]
  },
  {
   "cell_type": "code",
   "execution_count": 89,
   "metadata": {},
   "outputs": [
    {
     "name": "stdout",
     "output_type": "stream",
     "text": [
      "+--------------+----+\n",
      "|         Dates|date|\n",
      "+--------------+----+\n",
      "|Sept. 30, 2017|null|\n",
      "| June 30, 2017|null|\n",
      "|March 31, 2017|null|\n",
      "| Dec. 31, 2016|null|\n",
      "|Sept. 30, 2016|null|\n",
      "| June 30, 2016|null|\n",
      "|March 31, 2016|null|\n",
      "| Dec. 31, 2015|null|\n",
      "|Sept. 30, 2015|null|\n",
      "| June 30, 2015|null|\n",
      "|March 31, 2015|null|\n",
      "| Dec. 31, 2014|null|\n",
      "|Sept. 30, 2014|null|\n",
      "| June 30, 2014|null|\n",
      "|March 31, 2014|null|\n",
      "| Dec. 31, 2013|null|\n",
      "|Sept. 30, 2013|null|\n",
      "| June 30, 2013|null|\n",
      "|March 31, 2013|null|\n",
      "| Dec. 31, 2012|null|\n",
      "+--------------+----+\n",
      "only showing top 20 rows\n",
      "\n"
     ]
    }
   ],
   "source": [
    "x.select('Dates', unix_timestamp('Dates', \n",
    "                               'MM/dd/yyyy').alias('date')).show()"
   ]
  },
  {
   "cell_type": "code",
   "execution_count": 87,
   "metadata": {},
   "outputs": [
    {
     "name": "stdout",
     "output_type": "stream",
     "text": [
      "+---+--------------+------+--------------+------+\n",
      "|_c0|         Dates|Values|        metric|ticker|\n",
      "+---+--------------+------+--------------+------+\n",
      "|  0|Sept. 30, 2017| 4.084|debt_to_equity|  TIPT|\n",
      "|  1| June 30, 2017| 4.483|debt_to_equity|  TIPT|\n",
      "|  2|March 31, 2017| 4.290|debt_to_equity|  TIPT|\n",
      "|  3| Dec. 31, 2016| 2.702|debt_to_equity|  TIPT|\n",
      "|  4|Sept. 30, 2016| 5.935|debt_to_equity|  TIPT|\n",
      "|  5| June 30, 2016| 2.279|debt_to_equity|  TIPT|\n",
      "|  6|March 31, 2016| 2.240|debt_to_equity|  TIPT|\n",
      "|  7| Dec. 31, 2015| 2.132|debt_to_equity|  TIPT|\n",
      "|  8|Sept. 30, 2015| 1.957|debt_to_equity|  TIPT|\n",
      "|  9| June 30, 2015| 1.565|debt_to_equity|  TIPT|\n",
      "| 10|March 31, 2015| 1.658|debt_to_equity|  TIPT|\n",
      "| 11| Dec. 31, 2014| 1.277|debt_to_equity|  TIPT|\n",
      "| 12|Sept. 30, 2014| 1.364|debt_to_equity|  TIPT|\n",
      "| 13| June 30, 2014| 2.326|debt_to_equity|  TIPT|\n",
      "| 14|March 31, 2014| 1.881|debt_to_equity|  TIPT|\n",
      "| 15| Dec. 31, 2013| 2.724|debt_to_equity|  TIPT|\n",
      "| 16|Sept. 30, 2013| 1.186|debt_to_equity|  TIPT|\n",
      "| 17| June 30, 2013|0.3325|debt_to_equity|  TIPT|\n",
      "| 18|March 31, 2013| 1.305|debt_to_equity|  TIPT|\n",
      "| 19| Dec. 31, 2012|0.9273|debt_to_equity|  TIPT|\n",
      "+---+--------------+------+--------------+------+\n",
      "only showing top 20 rows\n",
      "\n"
     ]
    }
   ],
   "source": [
    "x.show()"
   ]
  },
  {
   "cell_type": "code",
   "execution_count": 82,
   "metadata": {},
   "outputs": [
    {
     "ename": "AnalysisException",
     "evalue": "'Resolved attribute(s) Dates#57 missing from id#88L,letter#89 in operator !Project [dayofmonth(cast(Dates#57 as date)) AS dayofmonth(Dates)#973].;;\\n!Project [dayofmonth(cast(Dates#57 as date)) AS dayofmonth(Dates)#973]\\n+- AnalysisBarrier\\n      +- LogicalRDD [id#88L, letter#89], false\\n'",
     "output_type": "error",
     "traceback": [
      "\u001b[0;31m---------------------------------------------------------------------------\u001b[0m",
      "\u001b[0;31mPy4JJavaError\u001b[0m                             Traceback (most recent call last)",
      "\u001b[0;32m/opt/spark/python/pyspark/sql/utils.py\u001b[0m in \u001b[0;36mdeco\u001b[0;34m(*a, **kw)\u001b[0m\n\u001b[1;32m     62\u001b[0m         \u001b[0;32mtry\u001b[0m\u001b[0;34m:\u001b[0m\u001b[0;34m\u001b[0m\u001b[0m\n\u001b[0;32m---> 63\u001b[0;31m             \u001b[0;32mreturn\u001b[0m \u001b[0mf\u001b[0m\u001b[0;34m(\u001b[0m\u001b[0;34m*\u001b[0m\u001b[0ma\u001b[0m\u001b[0;34m,\u001b[0m \u001b[0;34m**\u001b[0m\u001b[0mkw\u001b[0m\u001b[0;34m)\u001b[0m\u001b[0;34m\u001b[0m\u001b[0m\n\u001b[0m\u001b[1;32m     64\u001b[0m         \u001b[0;32mexcept\u001b[0m \u001b[0mpy4j\u001b[0m\u001b[0;34m.\u001b[0m\u001b[0mprotocol\u001b[0m\u001b[0;34m.\u001b[0m\u001b[0mPy4JJavaError\u001b[0m \u001b[0;32mas\u001b[0m \u001b[0me\u001b[0m\u001b[0;34m:\u001b[0m\u001b[0;34m\u001b[0m\u001b[0m\n",
      "\u001b[0;32m/opt/spark/python/lib/py4j-0.10.6-src.zip/py4j/protocol.py\u001b[0m in \u001b[0;36mget_return_value\u001b[0;34m(answer, gateway_client, target_id, name)\u001b[0m\n\u001b[1;32m    319\u001b[0m                     \u001b[0;34m\"An error occurred while calling {0}{1}{2}.\\n\"\u001b[0m\u001b[0;34m.\u001b[0m\u001b[0;34m\u001b[0m\u001b[0m\n\u001b[0;32m--> 320\u001b[0;31m                     format(target_id, \".\", name), value)\n\u001b[0m\u001b[1;32m    321\u001b[0m             \u001b[0;32melse\u001b[0m\u001b[0;34m:\u001b[0m\u001b[0;34m\u001b[0m\u001b[0m\n",
      "\u001b[0;31mPy4JJavaError\u001b[0m: An error occurred while calling o149.select.\n: org.apache.spark.sql.AnalysisException: Resolved attribute(s) Dates#57 missing from id#88L,letter#89 in operator !Project [dayofmonth(cast(Dates#57 as date)) AS dayofmonth(Dates)#973].;;\n!Project [dayofmonth(cast(Dates#57 as date)) AS dayofmonth(Dates)#973]\n+- AnalysisBarrier\n      +- LogicalRDD [id#88L, letter#89], false\n\n\tat org.apache.spark.sql.catalyst.analysis.CheckAnalysis$class.failAnalysis(CheckAnalysis.scala:41)\n\tat org.apache.spark.sql.catalyst.analysis.Analyzer.failAnalysis(Analyzer.scala:91)\n\tat org.apache.spark.sql.catalyst.analysis.CheckAnalysis$$anonfun$checkAnalysis$1.apply(CheckAnalysis.scala:289)\n\tat org.apache.spark.sql.catalyst.analysis.CheckAnalysis$$anonfun$checkAnalysis$1.apply(CheckAnalysis.scala:80)\n\tat org.apache.spark.sql.catalyst.trees.TreeNode.foreachUp(TreeNode.scala:127)\n\tat org.apache.spark.sql.catalyst.analysis.CheckAnalysis$class.checkAnalysis(CheckAnalysis.scala:80)\n\tat org.apache.spark.sql.catalyst.analysis.Analyzer.checkAnalysis(Analyzer.scala:91)\n\tat org.apache.spark.sql.catalyst.analysis.Analyzer.executeAndCheck(Analyzer.scala:104)\n\tat org.apache.spark.sql.execution.QueryExecution.analyzed$lzycompute(QueryExecution.scala:57)\n\tat org.apache.spark.sql.execution.QueryExecution.analyzed(QueryExecution.scala:55)\n\tat org.apache.spark.sql.execution.QueryExecution.assertAnalyzed(QueryExecution.scala:47)\n\tat org.apache.spark.sql.Dataset$.ofRows(Dataset.scala:74)\n\tat org.apache.spark.sql.Dataset.org$apache$spark$sql$Dataset$$withPlan(Dataset.scala:3295)\n\tat org.apache.spark.sql.Dataset.select(Dataset.scala:1307)\n\tat sun.reflect.NativeMethodAccessorImpl.invoke0(Native Method)\n\tat sun.reflect.NativeMethodAccessorImpl.invoke(NativeMethodAccessorImpl.java:62)\n\tat sun.reflect.DelegatingMethodAccessorImpl.invoke(DelegatingMethodAccessorImpl.java:43)\n\tat java.lang.reflect.Method.invoke(Method.java:498)\n\tat py4j.reflection.MethodInvoker.invoke(MethodInvoker.java:244)\n\tat py4j.reflection.ReflectionEngine.invoke(ReflectionEngine.java:357)\n\tat py4j.Gateway.invoke(Gateway.java:282)\n\tat py4j.commands.AbstractCommand.invokeMethod(AbstractCommand.java:132)\n\tat py4j.commands.CallCommand.execute(CallCommand.java:79)\n\tat py4j.GatewayConnection.run(GatewayConnection.java:214)\n\tat java.lang.Thread.run(Thread.java:748)\n",
      "\nDuring handling of the above exception, another exception occurred:\n",
      "\u001b[0;31mAnalysisException\u001b[0m                         Traceback (most recent call last)",
      "\u001b[0;32m<ipython-input-82-5d4bd5dc9489>\u001b[0m in \u001b[0;36m<module>\u001b[0;34m()\u001b[0m\n\u001b[0;32m----> 1\u001b[0;31m \u001b[0mdf\u001b[0m\u001b[0;34m.\u001b[0m\u001b[0mselect\u001b[0m\u001b[0;34m(\u001b[0m\u001b[0mdayofmonth\u001b[0m\u001b[0;34m(\u001b[0m\u001b[0mx\u001b[0m\u001b[0;34m[\u001b[0m\u001b[0;34m'Dates'\u001b[0m\u001b[0;34m]\u001b[0m\u001b[0;34m)\u001b[0m\u001b[0;34m)\u001b[0m\u001b[0;34m.\u001b[0m\u001b[0mshow\u001b[0m\u001b[0;34m(\u001b[0m\u001b[0;34m)\u001b[0m\u001b[0;34m\u001b[0m\u001b[0m\n\u001b[0m",
      "\u001b[0;32m/opt/spark/python/pyspark/sql/dataframe.py\u001b[0m in \u001b[0;36mselect\u001b[0;34m(self, *cols)\u001b[0m\n\u001b[1;32m   1200\u001b[0m         \u001b[0;34m[\u001b[0m\u001b[0mRow\u001b[0m\u001b[0;34m(\u001b[0m\u001b[0mname\u001b[0m\u001b[0;34m=\u001b[0m\u001b[0;34mu'Alice'\u001b[0m\u001b[0;34m,\u001b[0m \u001b[0mage\u001b[0m\u001b[0;34m=\u001b[0m\u001b[0;36m12\u001b[0m\u001b[0;34m)\u001b[0m\u001b[0;34m,\u001b[0m \u001b[0mRow\u001b[0m\u001b[0;34m(\u001b[0m\u001b[0mname\u001b[0m\u001b[0;34m=\u001b[0m\u001b[0;34mu'Bob'\u001b[0m\u001b[0;34m,\u001b[0m \u001b[0mage\u001b[0m\u001b[0;34m=\u001b[0m\u001b[0;36m15\u001b[0m\u001b[0;34m)\u001b[0m\u001b[0;34m]\u001b[0m\u001b[0;34m\u001b[0m\u001b[0m\n\u001b[1;32m   1201\u001b[0m         \"\"\"\n\u001b[0;32m-> 1202\u001b[0;31m         \u001b[0mjdf\u001b[0m \u001b[0;34m=\u001b[0m \u001b[0mself\u001b[0m\u001b[0;34m.\u001b[0m\u001b[0m_jdf\u001b[0m\u001b[0;34m.\u001b[0m\u001b[0mselect\u001b[0m\u001b[0;34m(\u001b[0m\u001b[0mself\u001b[0m\u001b[0;34m.\u001b[0m\u001b[0m_jcols\u001b[0m\u001b[0;34m(\u001b[0m\u001b[0;34m*\u001b[0m\u001b[0mcols\u001b[0m\u001b[0;34m)\u001b[0m\u001b[0;34m)\u001b[0m\u001b[0;34m\u001b[0m\u001b[0m\n\u001b[0m\u001b[1;32m   1203\u001b[0m         \u001b[0;32mreturn\u001b[0m \u001b[0mDataFrame\u001b[0m\u001b[0;34m(\u001b[0m\u001b[0mjdf\u001b[0m\u001b[0;34m,\u001b[0m \u001b[0mself\u001b[0m\u001b[0;34m.\u001b[0m\u001b[0msql_ctx\u001b[0m\u001b[0;34m)\u001b[0m\u001b[0;34m\u001b[0m\u001b[0m\n\u001b[1;32m   1204\u001b[0m \u001b[0;34m\u001b[0m\u001b[0m\n",
      "\u001b[0;32m/opt/spark/python/lib/py4j-0.10.6-src.zip/py4j/java_gateway.py\u001b[0m in \u001b[0;36m__call__\u001b[0;34m(self, *args)\u001b[0m\n\u001b[1;32m   1158\u001b[0m         \u001b[0manswer\u001b[0m \u001b[0;34m=\u001b[0m \u001b[0mself\u001b[0m\u001b[0;34m.\u001b[0m\u001b[0mgateway_client\u001b[0m\u001b[0;34m.\u001b[0m\u001b[0msend_command\u001b[0m\u001b[0;34m(\u001b[0m\u001b[0mcommand\u001b[0m\u001b[0;34m)\u001b[0m\u001b[0;34m\u001b[0m\u001b[0m\n\u001b[1;32m   1159\u001b[0m         return_value = get_return_value(\n\u001b[0;32m-> 1160\u001b[0;31m             answer, self.gateway_client, self.target_id, self.name)\n\u001b[0m\u001b[1;32m   1161\u001b[0m \u001b[0;34m\u001b[0m\u001b[0m\n\u001b[1;32m   1162\u001b[0m         \u001b[0;32mfor\u001b[0m \u001b[0mtemp_arg\u001b[0m \u001b[0;32min\u001b[0m \u001b[0mtemp_args\u001b[0m\u001b[0;34m:\u001b[0m\u001b[0;34m\u001b[0m\u001b[0m\n",
      "\u001b[0;32m/opt/spark/python/pyspark/sql/utils.py\u001b[0m in \u001b[0;36mdeco\u001b[0;34m(*a, **kw)\u001b[0m\n\u001b[1;32m     67\u001b[0m                                              e.java_exception.getStackTrace()))\n\u001b[1;32m     68\u001b[0m             \u001b[0;32mif\u001b[0m \u001b[0ms\u001b[0m\u001b[0;34m.\u001b[0m\u001b[0mstartswith\u001b[0m\u001b[0;34m(\u001b[0m\u001b[0;34m'org.apache.spark.sql.AnalysisException: '\u001b[0m\u001b[0;34m)\u001b[0m\u001b[0;34m:\u001b[0m\u001b[0;34m\u001b[0m\u001b[0m\n\u001b[0;32m---> 69\u001b[0;31m                 \u001b[0;32mraise\u001b[0m \u001b[0mAnalysisException\u001b[0m\u001b[0;34m(\u001b[0m\u001b[0ms\u001b[0m\u001b[0;34m.\u001b[0m\u001b[0msplit\u001b[0m\u001b[0;34m(\u001b[0m\u001b[0;34m': '\u001b[0m\u001b[0;34m,\u001b[0m \u001b[0;36m1\u001b[0m\u001b[0;34m)\u001b[0m\u001b[0;34m[\u001b[0m\u001b[0;36m1\u001b[0m\u001b[0;34m]\u001b[0m\u001b[0;34m,\u001b[0m \u001b[0mstackTrace\u001b[0m\u001b[0;34m)\u001b[0m\u001b[0;34m\u001b[0m\u001b[0m\n\u001b[0m\u001b[1;32m     70\u001b[0m             \u001b[0;32mif\u001b[0m \u001b[0ms\u001b[0m\u001b[0;34m.\u001b[0m\u001b[0mstartswith\u001b[0m\u001b[0;34m(\u001b[0m\u001b[0;34m'org.apache.spark.sql.catalyst.analysis'\u001b[0m\u001b[0;34m)\u001b[0m\u001b[0;34m:\u001b[0m\u001b[0;34m\u001b[0m\u001b[0m\n\u001b[1;32m     71\u001b[0m                 \u001b[0;32mraise\u001b[0m \u001b[0mAnalysisException\u001b[0m\u001b[0;34m(\u001b[0m\u001b[0ms\u001b[0m\u001b[0;34m.\u001b[0m\u001b[0msplit\u001b[0m\u001b[0;34m(\u001b[0m\u001b[0;34m': '\u001b[0m\u001b[0;34m,\u001b[0m \u001b[0;36m1\u001b[0m\u001b[0;34m)\u001b[0m\u001b[0;34m[\u001b[0m\u001b[0;36m1\u001b[0m\u001b[0;34m]\u001b[0m\u001b[0;34m,\u001b[0m \u001b[0mstackTrace\u001b[0m\u001b[0;34m)\u001b[0m\u001b[0;34m\u001b[0m\u001b[0m\n",
      "\u001b[0;31mAnalysisException\u001b[0m: 'Resolved attribute(s) Dates#57 missing from id#88L,letter#89 in operator !Project [dayofmonth(cast(Dates#57 as date)) AS dayofmonth(Dates)#973].;;\\n!Project [dayofmonth(cast(Dates#57 as date)) AS dayofmonth(Dates)#973]\\n+- AnalysisBarrier\\n      +- LogicalRDD [id#88L, letter#89], false\\n'"
     ]
    }
   ],
   "source": [
    "df.select(dayofmonth(x['Dates'])).show()"
   ]
  },
  {
   "cell_type": "markdown",
   "metadata": {},
   "source": [
    "# Aggregate & Groupby"
   ]
  },
  {
   "cell_type": "code",
   "execution_count": 91,
   "metadata": {},
   "outputs": [
    {
     "name": "stdout",
     "output_type": "stream",
     "text": [
      "+------+------------------+\n",
      "|ticker|          avg(_c0)|\n",
      "+------+------------------+\n",
      "|  HBNC|              12.0|\n",
      "|  ALXN|              12.0|\n",
      "|   BOX|              4.25|\n",
      "|  ENTL|  4.32046332046332|\n",
      "|  CARS|1.4077669902912622|\n",
      "|   CRS|              12.0|\n",
      "|   OCX| 4.571428571428571|\n",
      "|   PKE|              12.0|\n",
      "|  RGLD|              12.0|\n",
      "|  LLNW|11.159029649595688|\n",
      "|  BCOV| 7.594262295081967|\n",
      "|   RRD|              12.0|\n",
      "|  KNDI| 10.15680473372781|\n",
      "|   AVX|              12.0|\n",
      "|  IOSP|              12.0|\n",
      "|  HUBS| 4.014760147601476|\n",
      "|   NPO|              12.0|\n",
      "|   HAE|              12.0|\n",
      "|   NNA| 7.922330097087379|\n",
      "|   AAT| 8.255555555555556|\n",
      "+------+------------------+\n",
      "only showing top 20 rows\n",
      "\n"
     ]
    }
   ],
   "source": [
    "x.groupBy(\"ticker\").mean().show()"
   ]
  },
  {
   "cell_type": "code",
   "execution_count": 92,
   "metadata": {},
   "outputs": [],
   "source": [
    "from pyspark.sql.functions import countDistinct,avg,stddev"
   ]
  },
  {
   "cell_type": "code",
   "execution_count": 93,
   "metadata": {},
   "outputs": [
    {
     "name": "stdout",
     "output_type": "stream",
     "text": [
      "+----------------------+\n",
      "|count(DISTINCT ticker)|\n",
      "+----------------------+\n",
      "|                  2113|\n",
      "+----------------------+\n",
      "\n"
     ]
    }
   ],
   "source": [
    "x.select(countDistinct(\"ticker\")).show()"
   ]
  },
  {
   "cell_type": "code",
   "execution_count": 96,
   "metadata": {},
   "outputs": [
    {
     "name": "stdout",
     "output_type": "stream",
     "text": [
      "+------------------+\n",
      "|         avg sales|\n",
      "+------------------+\n",
      "|16.326433151026823|\n",
      "+------------------+\n",
      "\n"
     ]
    }
   ],
   "source": [
    "x.select(avg(\"values\").alias(\"avg sales\")).show()"
   ]
  },
  {
   "cell_type": "code",
   "execution_count": 97,
   "metadata": {},
   "outputs": [],
   "source": [
    "from pyspark.sql.functions import format_number"
   ]
  },
  {
   "cell_type": "code",
   "execution_count": 98,
   "metadata": {},
   "outputs": [
    {
     "name": "stdout",
     "output_type": "stream",
     "text": [
      "+-----------------+\n",
      "|       std values|\n",
      "+-----------------+\n",
      "|986.1591955989774|\n",
      "+-----------------+\n",
      "\n"
     ]
    }
   ],
   "source": [
    "vals_std = x.select(stddev(\"values\").alias(\"std values\"))\n",
    "vals_std.show()"
   ]
  },
  {
   "cell_type": "code",
   "execution_count": 103,
   "metadata": {},
   "outputs": [],
   "source": [
    "from pyspark.sql import functions as func"
   ]
  },
  {
   "cell_type": "code",
   "execution_count": 106,
   "metadata": {},
   "outputs": [
    {
     "name": "stdout",
     "output_type": "stream",
     "text": [
      "+------+------------------+\n",
      "|ticker|               lol|\n",
      "+------+------------------+\n",
      "|  HBNC|16.872027090301007|\n",
      "|  ALXN| 8.282233220338984|\n",
      "|   BOX|13.541399999999994|\n",
      "|  ENTL|11.115193421052632|\n",
      "|  CARS|12.803731034482757|\n",
      "|   CRS|  9.85766266666667|\n",
      "|   OCX|          -0.49588|\n",
      "|   PKE|13.191157564575645|\n",
      "|  RGLD|16.037179931972787|\n",
      "|  LLNW|12.801504182509518|\n",
      "|  BCOV|11.210254088050315|\n",
      "|   RRD|12.196114814814823|\n",
      "|  KNDI| 65.16682705882349|\n",
      "|   AVX|11.534897212543546|\n",
      "|  IOSP| 9.628419000000001|\n",
      "|  HUBS| 7.361332183908045|\n",
      "|   NPO|13.638229666666659|\n",
      "|   HAE|12.038497333333343|\n",
      "|   NNA| 5.901970652173913|\n",
      "|   AAT| 6.940160655737703|\n",
      "+------+------------------+\n",
      "only showing top 20 rows\n",
      "\n"
     ]
    }
   ],
   "source": [
    "(x\n",
    " .groupBy(\"ticker\")\n",
    " .agg(func\n",
    "      .avg('values')\n",
    "      .alias('lol'))\n",
    " .show())"
   ]
  },
  {
   "cell_type": "markdown",
   "metadata": {},
   "source": [
    "# Sorting & Ordering"
   ]
  },
  {
   "cell_type": "code",
   "execution_count": 109,
   "metadata": {},
   "outputs": [
    {
     "name": "stdout",
     "output_type": "stream",
     "text": [
      "+---+--------------+------+--------------+------+\n",
      "|_c0|         Dates|Values|        metric|ticker|\n",
      "+---+--------------+------+--------------+------+\n",
      "|  0| Dec. 31, 2017| 1.332|debt_to_equity|   AAC|\n",
      "|  3|March 31, 2017| 2.118| current_ratio|   AAC|\n",
      "|  1|Sept. 30, 2017| 1.193|debt_to_equity|   AAC|\n",
      "|  2| June 30, 2017| 1.275|debt_to_equity|   AAC|\n",
      "|  3|March 31, 2017| 1.189|debt_to_equity|   AAC|\n",
      "|  4| Dec. 31, 2016| 1.145|debt_to_equity|   AAC|\n",
      "|  5|Sept. 30, 2016| 1.158|debt_to_equity|   AAC|\n",
      "|  6| June 30, 2016| 1.024|debt_to_equity|   AAC|\n",
      "|  7|March 31, 2016|0.9859|debt_to_equity|   AAC|\n",
      "|  8| Dec. 31, 2015| 1.025|debt_to_equity|   AAC|\n",
      "|  0|Sept. 30, 2015|0.8701|debt_to_equity|   AAC|\n",
      "|  1| June 30, 2015|0.6908|debt_to_equity|   AAC|\n",
      "|  2|March 31, 2015|0.7521|debt_to_equity|   AAC|\n",
      "|  3| Dec. 31, 2014|0.2938|debt_to_equity|   AAC|\n",
      "|  4|Sept. 30, 2014| 1.600|debt_to_equity|   AAC|\n",
      "|  5| June 30, 2014| 1.772|debt_to_equity|   AAC|\n",
      "|  6|March 31, 2014| 3.224|debt_to_equity|   AAC|\n",
      "|  7| Dec. 31, 2013| 5.264|debt_to_equity|   AAC|\n",
      "|  0| Dec. 31, 2017| 1.848| current_ratio|   AAC|\n",
      "|  1|Sept. 30, 2017| 3.276| current_ratio|   AAC|\n",
      "+---+--------------+------+--------------+------+\n",
      "only showing top 20 rows\n",
      "\n"
     ]
    }
   ],
   "source": [
    "x.orderBy('ticker').show()"
   ]
  },
  {
   "cell_type": "code",
   "execution_count": 110,
   "metadata": {},
   "outputs": [
    {
     "name": "stdout",
     "output_type": "stream",
     "text": [
      "+---+--------------+-------+------------------+------+\n",
      "|_c0|         Dates| Values|            metric|ticker|\n",
      "+---+--------------+-------+------------------+------+\n",
      "|  3|March 31, 2017|999.96M|           revenue|  FWRD|\n",
      "| 14| June 30, 2014|999.94M|           revenue|   LHO|\n",
      "|  2| Jan. 31, 2011|999.90M|           revenue|  LAYN|\n",
      "| 22| Jan. 31, 2006|999.82M|           revenue| VLGEA|\n",
      "| 22|Sept. 30, 2011|999.80M|shares_outstanding|   ABX|\n",
      "| 22|Sept. 30, 2011|999.80M|shares_outstanding|   ABX|\n",
      "|  5| June 30, 2010|999.69M|           revenue|   MTX|\n",
      "| 13|  May 31, 2008|999.67M|           revenue|   UNF|\n",
      "| 22| June 30, 2012|999.52M|           revenue|   MMS|\n",
      "| 13| Dec. 31, 2013|999.51M|           revenue|    HK|\n",
      "|  6| June 30, 2016|999.48M|           revenue|  ASTE|\n",
      "| 10| June 30, 2015|999.41M|           revenue|  BGFV|\n",
      "|  4| Dec. 31, 2016|999.39M|           revenue|   HZO|\n",
      "| 20| Dec. 31, 2012|999.38M|           revenue|   MTX|\n",
      "| 24|April 15, 2011|999.33M|shares_outstanding|   ABX|\n",
      "| 24|April 15, 2011|999.33M|shares_outstanding|   ABX|\n",
      "|  2|March 31, 2012|999.22M|           revenue|    KS|\n",
      "| 16|Sept. 30, 2007|999.20M|           revenue|   NPO|\n",
      "| 22| June 30, 2012|999.10M|           revenue|   MWA|\n",
      "| 12|Sept. 30, 2008|999.03M|           revenue|  ASTE|\n",
      "+---+--------------+-------+------------------+------+\n",
      "only showing top 20 rows\n",
      "\n"
     ]
    }
   ],
   "source": [
    "x.orderBy(x['values'].desc()).show()"
   ]
  },
  {
   "cell_type": "markdown",
   "metadata": {},
   "source": [
    "# Dropping Missing Data"
   ]
  },
  {
   "cell_type": "code",
   "execution_count": 111,
   "metadata": {},
   "outputs": [
    {
     "name": "stdout",
     "output_type": "stream",
     "text": [
      "+---+--------------+------+--------------+------+\n",
      "|_c0|         Dates|Values|        metric|ticker|\n",
      "+---+--------------+------+--------------+------+\n",
      "|  0|Sept. 30, 2017| 4.084|debt_to_equity|  TIPT|\n",
      "|  1| June 30, 2017| 4.483|debt_to_equity|  TIPT|\n",
      "|  2|March 31, 2017| 4.290|debt_to_equity|  TIPT|\n",
      "|  3| Dec. 31, 2016| 2.702|debt_to_equity|  TIPT|\n",
      "|  4|Sept. 30, 2016| 5.935|debt_to_equity|  TIPT|\n",
      "|  5| June 30, 2016| 2.279|debt_to_equity|  TIPT|\n",
      "|  6|March 31, 2016| 2.240|debt_to_equity|  TIPT|\n",
      "|  7| Dec. 31, 2015| 2.132|debt_to_equity|  TIPT|\n",
      "|  8|Sept. 30, 2015| 1.957|debt_to_equity|  TIPT|\n",
      "|  9| June 30, 2015| 1.565|debt_to_equity|  TIPT|\n",
      "| 10|March 31, 2015| 1.658|debt_to_equity|  TIPT|\n",
      "| 11| Dec. 31, 2014| 1.277|debt_to_equity|  TIPT|\n",
      "| 12|Sept. 30, 2014| 1.364|debt_to_equity|  TIPT|\n",
      "| 13| June 30, 2014| 2.326|debt_to_equity|  TIPT|\n",
      "| 14|March 31, 2014| 1.881|debt_to_equity|  TIPT|\n",
      "| 15| Dec. 31, 2013| 2.724|debt_to_equity|  TIPT|\n",
      "| 16|Sept. 30, 2013| 1.186|debt_to_equity|  TIPT|\n",
      "| 17| June 30, 2013|0.3325|debt_to_equity|  TIPT|\n",
      "| 18|March 31, 2013| 1.305|debt_to_equity|  TIPT|\n",
      "| 19| Dec. 31, 2012|0.9273|debt_to_equity|  TIPT|\n",
      "+---+--------------+------+--------------+------+\n",
      "only showing top 20 rows\n",
      "\n"
     ]
    }
   ],
   "source": [
    "x.na.drop().show()"
   ]
  },
  {
   "cell_type": "code",
   "execution_count": 112,
   "metadata": {},
   "outputs": [
    {
     "name": "stdout",
     "output_type": "stream",
     "text": [
      "+---+--------------+------+--------------+------+\n",
      "|_c0|         Dates|Values|        metric|ticker|\n",
      "+---+--------------+------+--------------+------+\n",
      "|  0|Sept. 30, 2017| 4.084|debt_to_equity|  TIPT|\n",
      "|  1| June 30, 2017| 4.483|debt_to_equity|  TIPT|\n",
      "|  2|March 31, 2017| 4.290|debt_to_equity|  TIPT|\n",
      "|  3| Dec. 31, 2016| 2.702|debt_to_equity|  TIPT|\n",
      "|  4|Sept. 30, 2016| 5.935|debt_to_equity|  TIPT|\n",
      "|  5| June 30, 2016| 2.279|debt_to_equity|  TIPT|\n",
      "|  6|March 31, 2016| 2.240|debt_to_equity|  TIPT|\n",
      "|  7| Dec. 31, 2015| 2.132|debt_to_equity|  TIPT|\n",
      "|  8|Sept. 30, 2015| 1.957|debt_to_equity|  TIPT|\n",
      "|  9| June 30, 2015| 1.565|debt_to_equity|  TIPT|\n",
      "| 10|March 31, 2015| 1.658|debt_to_equity|  TIPT|\n",
      "| 11| Dec. 31, 2014| 1.277|debt_to_equity|  TIPT|\n",
      "| 12|Sept. 30, 2014| 1.364|debt_to_equity|  TIPT|\n",
      "| 13| June 30, 2014| 2.326|debt_to_equity|  TIPT|\n",
      "| 14|March 31, 2014| 1.881|debt_to_equity|  TIPT|\n",
      "| 15| Dec. 31, 2013| 2.724|debt_to_equity|  TIPT|\n",
      "| 16|Sept. 30, 2013| 1.186|debt_to_equity|  TIPT|\n",
      "| 17| June 30, 2013|0.3325|debt_to_equity|  TIPT|\n",
      "| 18|March 31, 2013| 1.305|debt_to_equity|  TIPT|\n",
      "| 19| Dec. 31, 2012|0.9273|debt_to_equity|  TIPT|\n",
      "+---+--------------+------+--------------+------+\n",
      "only showing top 20 rows\n",
      "\n"
     ]
    }
   ],
   "source": [
    "# drop rows with less than threshold of # of nulls in row\n",
    "## has to have atleast 2 non null values\n",
    "x.na.drop(thresh=2).show()"
   ]
  },
  {
   "cell_type": "code",
   "execution_count": 114,
   "metadata": {},
   "outputs": [
    {
     "name": "stdout",
     "output_type": "stream",
     "text": [
      "+---+--------------+------+--------------+------+\n",
      "|_c0|         Dates|Values|        metric|ticker|\n",
      "+---+--------------+------+--------------+------+\n",
      "|  0|Sept. 30, 2017| 4.084|debt_to_equity|  TIPT|\n",
      "|  1| June 30, 2017| 4.483|debt_to_equity|  TIPT|\n",
      "|  2|March 31, 2017| 4.290|debt_to_equity|  TIPT|\n",
      "|  3| Dec. 31, 2016| 2.702|debt_to_equity|  TIPT|\n",
      "|  4|Sept. 30, 2016| 5.935|debt_to_equity|  TIPT|\n",
      "|  5| June 30, 2016| 2.279|debt_to_equity|  TIPT|\n",
      "|  6|March 31, 2016| 2.240|debt_to_equity|  TIPT|\n",
      "|  7| Dec. 31, 2015| 2.132|debt_to_equity|  TIPT|\n",
      "|  8|Sept. 30, 2015| 1.957|debt_to_equity|  TIPT|\n",
      "|  9| June 30, 2015| 1.565|debt_to_equity|  TIPT|\n",
      "| 10|March 31, 2015| 1.658|debt_to_equity|  TIPT|\n",
      "| 11| Dec. 31, 2014| 1.277|debt_to_equity|  TIPT|\n",
      "| 12|Sept. 30, 2014| 1.364|debt_to_equity|  TIPT|\n",
      "| 13| June 30, 2014| 2.326|debt_to_equity|  TIPT|\n",
      "| 14|March 31, 2014| 1.881|debt_to_equity|  TIPT|\n",
      "| 15| Dec. 31, 2013| 2.724|debt_to_equity|  TIPT|\n",
      "| 16|Sept. 30, 2013| 1.186|debt_to_equity|  TIPT|\n",
      "| 17| June 30, 2013|0.3325|debt_to_equity|  TIPT|\n",
      "| 18|March 31, 2013| 1.305|debt_to_equity|  TIPT|\n",
      "| 19| Dec. 31, 2012|0.9273|debt_to_equity|  TIPT|\n",
      "+---+--------------+------+--------------+------+\n",
      "only showing top 20 rows\n",
      "\n"
     ]
    }
   ],
   "source": [
    "# dropping if nulls in subsetted column\n",
    "x.na.drop(subset=['Values']).show()"
   ]
  },
  {
   "cell_type": "code",
   "execution_count": 116,
   "metadata": {},
   "outputs": [
    {
     "name": "stdout",
     "output_type": "stream",
     "text": [
      "+---+--------------+------+--------------+------+\n",
      "|_c0|         Dates|Values|        metric|ticker|\n",
      "+---+--------------+------+--------------+------+\n",
      "|  0|Sept. 30, 2017| 4.084|debt_to_equity|  TIPT|\n",
      "|  1| June 30, 2017| 4.483|debt_to_equity|  TIPT|\n",
      "|  2|March 31, 2017| 4.290|debt_to_equity|  TIPT|\n",
      "|  3| Dec. 31, 2016| 2.702|debt_to_equity|  TIPT|\n",
      "|  4|Sept. 30, 2016| 5.935|debt_to_equity|  TIPT|\n",
      "|  5| June 30, 2016| 2.279|debt_to_equity|  TIPT|\n",
      "|  6|March 31, 2016| 2.240|debt_to_equity|  TIPT|\n",
      "|  7| Dec. 31, 2015| 2.132|debt_to_equity|  TIPT|\n",
      "|  8|Sept. 30, 2015| 1.957|debt_to_equity|  TIPT|\n",
      "|  9| June 30, 2015| 1.565|debt_to_equity|  TIPT|\n",
      "| 10|March 31, 2015| 1.658|debt_to_equity|  TIPT|\n",
      "| 11| Dec. 31, 2014| 1.277|debt_to_equity|  TIPT|\n",
      "| 12|Sept. 30, 2014| 1.364|debt_to_equity|  TIPT|\n",
      "| 13| June 30, 2014| 2.326|debt_to_equity|  TIPT|\n",
      "| 14|March 31, 2014| 1.881|debt_to_equity|  TIPT|\n",
      "| 15| Dec. 31, 2013| 2.724|debt_to_equity|  TIPT|\n",
      "| 16|Sept. 30, 2013| 1.186|debt_to_equity|  TIPT|\n",
      "| 17| June 30, 2013|0.3325|debt_to_equity|  TIPT|\n",
      "| 18|March 31, 2013| 1.305|debt_to_equity|  TIPT|\n",
      "| 19| Dec. 31, 2012|0.9273|debt_to_equity|  TIPT|\n",
      "+---+--------------+------+--------------+------+\n",
      "only showing top 20 rows\n",
      "\n"
     ]
    }
   ],
   "source": [
    "# specifying ANY vs ALL (if any value in row is null)\n",
    "x.na.drop(how=\"any\").show()"
   ]
  },
  {
   "cell_type": "code",
   "execution_count": 117,
   "metadata": {},
   "outputs": [
    {
     "name": "stdout",
     "output_type": "stream",
     "text": [
      "+---+--------------+------+--------------+------+\n",
      "|_c0|         Dates|Values|        metric|ticker|\n",
      "+---+--------------+------+--------------+------+\n",
      "|  0|Sept. 30, 2017| 4.084|debt_to_equity|  TIPT|\n",
      "|  1| June 30, 2017| 4.483|debt_to_equity|  TIPT|\n",
      "|  2|March 31, 2017| 4.290|debt_to_equity|  TIPT|\n",
      "|  3| Dec. 31, 2016| 2.702|debt_to_equity|  TIPT|\n",
      "|  4|Sept. 30, 2016| 5.935|debt_to_equity|  TIPT|\n",
      "|  5| June 30, 2016| 2.279|debt_to_equity|  TIPT|\n",
      "|  6|March 31, 2016| 2.240|debt_to_equity|  TIPT|\n",
      "|  7| Dec. 31, 2015| 2.132|debt_to_equity|  TIPT|\n",
      "|  8|Sept. 30, 2015| 1.957|debt_to_equity|  TIPT|\n",
      "|  9| June 30, 2015| 1.565|debt_to_equity|  TIPT|\n",
      "| 10|March 31, 2015| 1.658|debt_to_equity|  TIPT|\n",
      "| 11| Dec. 31, 2014| 1.277|debt_to_equity|  TIPT|\n",
      "| 12|Sept. 30, 2014| 1.364|debt_to_equity|  TIPT|\n",
      "| 13| June 30, 2014| 2.326|debt_to_equity|  TIPT|\n",
      "| 14|March 31, 2014| 1.881|debt_to_equity|  TIPT|\n",
      "| 15| Dec. 31, 2013| 2.724|debt_to_equity|  TIPT|\n",
      "| 16|Sept. 30, 2013| 1.186|debt_to_equity|  TIPT|\n",
      "| 17| June 30, 2013|0.3325|debt_to_equity|  TIPT|\n",
      "| 18|March 31, 2013| 1.305|debt_to_equity|  TIPT|\n",
      "| 19| Dec. 31, 2012|0.9273|debt_to_equity|  TIPT|\n",
      "+---+--------------+------+--------------+------+\n",
      "only showing top 20 rows\n",
      "\n"
     ]
    }
   ],
   "source": [
    "# specifying ANY vs ALL (only if all row's values are null)\n",
    "x.na.drop(how=\"all\").show()"
   ]
  },
  {
   "cell_type": "markdown",
   "metadata": {},
   "source": [
    "# Filling Missing Data"
   ]
  },
  {
   "cell_type": "code",
   "execution_count": 118,
   "metadata": {},
   "outputs": [
    {
     "name": "stdout",
     "output_type": "stream",
     "text": [
      "+---+--------------+------+--------------+------+\n",
      "|_c0|         Dates|Values|        metric|ticker|\n",
      "+---+--------------+------+--------------+------+\n",
      "|  0|Sept. 30, 2017| 4.084|debt_to_equity|  TIPT|\n",
      "|  1| June 30, 2017| 4.483|debt_to_equity|  TIPT|\n",
      "|  2|March 31, 2017| 4.290|debt_to_equity|  TIPT|\n",
      "|  3| Dec. 31, 2016| 2.702|debt_to_equity|  TIPT|\n",
      "|  4|Sept. 30, 2016| 5.935|debt_to_equity|  TIPT|\n",
      "|  5| June 30, 2016| 2.279|debt_to_equity|  TIPT|\n",
      "|  6|March 31, 2016| 2.240|debt_to_equity|  TIPT|\n",
      "|  7| Dec. 31, 2015| 2.132|debt_to_equity|  TIPT|\n",
      "|  8|Sept. 30, 2015| 1.957|debt_to_equity|  TIPT|\n",
      "|  9| June 30, 2015| 1.565|debt_to_equity|  TIPT|\n",
      "| 10|March 31, 2015| 1.658|debt_to_equity|  TIPT|\n",
      "| 11| Dec. 31, 2014| 1.277|debt_to_equity|  TIPT|\n",
      "| 12|Sept. 30, 2014| 1.364|debt_to_equity|  TIPT|\n",
      "| 13| June 30, 2014| 2.326|debt_to_equity|  TIPT|\n",
      "| 14|March 31, 2014| 1.881|debt_to_equity|  TIPT|\n",
      "| 15| Dec. 31, 2013| 2.724|debt_to_equity|  TIPT|\n",
      "| 16|Sept. 30, 2013| 1.186|debt_to_equity|  TIPT|\n",
      "| 17| June 30, 2013|0.3325|debt_to_equity|  TIPT|\n",
      "| 18|March 31, 2013| 1.305|debt_to_equity|  TIPT|\n",
      "| 19| Dec. 31, 2012|0.9273|debt_to_equity|  TIPT|\n",
      "+---+--------------+------+--------------+------+\n",
      "only showing top 20 rows\n",
      "\n"
     ]
    }
   ],
   "source": [
    "x.na.fill('NEW VALUE').show() #filles the null value with a string"
   ]
  },
  {
   "cell_type": "code",
   "execution_count": 119,
   "metadata": {},
   "outputs": [
    {
     "name": "stdout",
     "output_type": "stream",
     "text": [
      "+---+--------------+------+--------------+------+\n",
      "|_c0|         Dates|Values|        metric|ticker|\n",
      "+---+--------------+------+--------------+------+\n",
      "|  0|Sept. 30, 2017| 4.084|debt_to_equity|  TIPT|\n",
      "|  1| June 30, 2017| 4.483|debt_to_equity|  TIPT|\n",
      "|  2|March 31, 2017| 4.290|debt_to_equity|  TIPT|\n",
      "|  3| Dec. 31, 2016| 2.702|debt_to_equity|  TIPT|\n",
      "|  4|Sept. 30, 2016| 5.935|debt_to_equity|  TIPT|\n",
      "|  5| June 30, 2016| 2.279|debt_to_equity|  TIPT|\n",
      "|  6|March 31, 2016| 2.240|debt_to_equity|  TIPT|\n",
      "|  7| Dec. 31, 2015| 2.132|debt_to_equity|  TIPT|\n",
      "|  8|Sept. 30, 2015| 1.957|debt_to_equity|  TIPT|\n",
      "|  9| June 30, 2015| 1.565|debt_to_equity|  TIPT|\n",
      "| 10|March 31, 2015| 1.658|debt_to_equity|  TIPT|\n",
      "| 11| Dec. 31, 2014| 1.277|debt_to_equity|  TIPT|\n",
      "| 12|Sept. 30, 2014| 1.364|debt_to_equity|  TIPT|\n",
      "| 13| June 30, 2014| 2.326|debt_to_equity|  TIPT|\n",
      "| 14|March 31, 2014| 1.881|debt_to_equity|  TIPT|\n",
      "| 15| Dec. 31, 2013| 2.724|debt_to_equity|  TIPT|\n",
      "| 16|Sept. 30, 2013| 1.186|debt_to_equity|  TIPT|\n",
      "| 17| June 30, 2013|0.3325|debt_to_equity|  TIPT|\n",
      "| 18|March 31, 2013| 1.305|debt_to_equity|  TIPT|\n",
      "| 19| Dec. 31, 2012|0.9273|debt_to_equity|  TIPT|\n",
      "+---+--------------+------+--------------+------+\n",
      "only showing top 20 rows\n",
      "\n"
     ]
    }
   ],
   "source": [
    "x.na.fill(0).show() #filles the null value with 0"
   ]
  },
  {
   "cell_type": "code",
   "execution_count": 120,
   "metadata": {},
   "outputs": [
    {
     "name": "stdout",
     "output_type": "stream",
     "text": [
      "+---+--------------+------+--------------+------+\n",
      "|_c0|         Dates|Values|        metric|ticker|\n",
      "+---+--------------+------+--------------+------+\n",
      "|  0|Sept. 30, 2017| 4.084|debt_to_equity|  TIPT|\n",
      "|  1| June 30, 2017| 4.483|debt_to_equity|  TIPT|\n",
      "|  2|March 31, 2017| 4.290|debt_to_equity|  TIPT|\n",
      "|  3| Dec. 31, 2016| 2.702|debt_to_equity|  TIPT|\n",
      "|  4|Sept. 30, 2016| 5.935|debt_to_equity|  TIPT|\n",
      "|  5| June 30, 2016| 2.279|debt_to_equity|  TIPT|\n",
      "|  6|March 31, 2016| 2.240|debt_to_equity|  TIPT|\n",
      "|  7| Dec. 31, 2015| 2.132|debt_to_equity|  TIPT|\n",
      "|  8|Sept. 30, 2015| 1.957|debt_to_equity|  TIPT|\n",
      "|  9| June 30, 2015| 1.565|debt_to_equity|  TIPT|\n",
      "| 10|March 31, 2015| 1.658|debt_to_equity|  TIPT|\n",
      "| 11| Dec. 31, 2014| 1.277|debt_to_equity|  TIPT|\n",
      "| 12|Sept. 30, 2014| 1.364|debt_to_equity|  TIPT|\n",
      "| 13| June 30, 2014| 2.326|debt_to_equity|  TIPT|\n",
      "| 14|March 31, 2014| 1.881|debt_to_equity|  TIPT|\n",
      "| 15| Dec. 31, 2013| 2.724|debt_to_equity|  TIPT|\n",
      "| 16|Sept. 30, 2013| 1.186|debt_to_equity|  TIPT|\n",
      "| 17| June 30, 2013|0.3325|debt_to_equity|  TIPT|\n",
      "| 18|March 31, 2013| 1.305|debt_to_equity|  TIPT|\n",
      "| 19| Dec. 31, 2012|0.9273|debt_to_equity|  TIPT|\n",
      "+---+--------------+------+--------------+------+\n",
      "only showing top 20 rows\n",
      "\n"
     ]
    }
   ],
   "source": [
    "# subsetting the fill on just one column\n",
    "x.na.fill('No Name',subset=['ticker']).show()"
   ]
  },
  {
   "cell_type": "markdown",
   "metadata": {},
   "source": [
    "## Imputation"
   ]
  },
  {
   "cell_type": "code",
   "execution_count": 122,
   "metadata": {},
   "outputs": [],
   "source": [
    "from pyspark.sql.functions import mean"
   ]
  },
  {
   "cell_type": "code",
   "execution_count": 123,
   "metadata": {},
   "outputs": [],
   "source": [
    "mean_val = x.select(mean(x['Values'])).collect()"
   ]
  },
  {
   "cell_type": "code",
   "execution_count": 124,
   "metadata": {},
   "outputs": [
    {
     "data": {
      "text/plain": [
       "[Row(avg(Values)=16.326433151026823)]"
      ]
     },
     "execution_count": 124,
     "metadata": {},
     "output_type": "execute_result"
    }
   ],
   "source": [
    "mean_val"
   ]
  },
  {
   "cell_type": "code",
   "execution_count": 125,
   "metadata": {},
   "outputs": [],
   "source": [
    "mean_val_fill = mean_val[0][0]"
   ]
  },
  {
   "cell_type": "code",
   "execution_count": 126,
   "metadata": {},
   "outputs": [
    {
     "data": {
      "text/plain": [
       "16.326433151026823"
      ]
     },
     "execution_count": 126,
     "metadata": {},
     "output_type": "execute_result"
    }
   ],
   "source": [
    "mean_val_fill"
   ]
  },
  {
   "cell_type": "code",
   "execution_count": 128,
   "metadata": {},
   "outputs": [
    {
     "name": "stdout",
     "output_type": "stream",
     "text": [
      "+---+--------------+------+--------------+------+\n",
      "|_c0|         Dates|Values|        metric|ticker|\n",
      "+---+--------------+------+--------------+------+\n",
      "|  0|Sept. 30, 2017| 4.084|debt_to_equity|  TIPT|\n",
      "|  1| June 30, 2017| 4.483|debt_to_equity|  TIPT|\n",
      "|  2|March 31, 2017| 4.290|debt_to_equity|  TIPT|\n",
      "|  3| Dec. 31, 2016| 2.702|debt_to_equity|  TIPT|\n",
      "|  4|Sept. 30, 2016| 5.935|debt_to_equity|  TIPT|\n",
      "|  5| June 30, 2016| 2.279|debt_to_equity|  TIPT|\n",
      "|  6|March 31, 2016| 2.240|debt_to_equity|  TIPT|\n",
      "|  7| Dec. 31, 2015| 2.132|debt_to_equity|  TIPT|\n",
      "|  8|Sept. 30, 2015| 1.957|debt_to_equity|  TIPT|\n",
      "|  9| June 30, 2015| 1.565|debt_to_equity|  TIPT|\n",
      "| 10|March 31, 2015| 1.658|debt_to_equity|  TIPT|\n",
      "| 11| Dec. 31, 2014| 1.277|debt_to_equity|  TIPT|\n",
      "| 12|Sept. 30, 2014| 1.364|debt_to_equity|  TIPT|\n",
      "| 13| June 30, 2014| 2.326|debt_to_equity|  TIPT|\n",
      "| 14|March 31, 2014| 1.881|debt_to_equity|  TIPT|\n",
      "| 15| Dec. 31, 2013| 2.724|debt_to_equity|  TIPT|\n",
      "| 16|Sept. 30, 2013| 1.186|debt_to_equity|  TIPT|\n",
      "| 17| June 30, 2013|0.3325|debt_to_equity|  TIPT|\n",
      "| 18|March 31, 2013| 1.305|debt_to_equity|  TIPT|\n",
      "| 19| Dec. 31, 2012|0.9273|debt_to_equity|  TIPT|\n",
      "+---+--------------+------+--------------+------+\n",
      "only showing top 20 rows\n",
      "\n"
     ]
    }
   ],
   "source": [
    "x.na.fill(mean_val_fill,['Values']).show()"
   ]
  },
  {
   "cell_type": "code",
   "execution_count": null,
   "metadata": {},
   "outputs": [],
   "source": []
  },
  {
   "cell_type": "code",
   "execution_count": null,
   "metadata": {},
   "outputs": [],
   "source": []
  },
  {
   "cell_type": "code",
   "execution_count": null,
   "metadata": {},
   "outputs": [],
   "source": []
  },
  {
   "cell_type": "code",
   "execution_count": null,
   "metadata": {},
   "outputs": [],
   "source": []
  }
 ],
 "metadata": {
  "kernelspec": {
   "display_name": "Python 3",
   "language": "python",
   "name": "python3"
  },
  "language_info": {
   "codemirror_mode": {
    "name": "ipython",
    "version": 3
   },
   "file_extension": ".py",
   "mimetype": "text/x-python",
   "name": "python",
   "nbconvert_exporter": "python",
   "pygments_lexer": "ipython3",
   "version": "3.6.2"
  },
  "toc": {
   "colors": {
    "hover_highlight": "#DAA520",
    "navigate_num": "#000000",
    "navigate_text": "#333333",
    "running_highlight": "#FF0000",
    "selected_highlight": "#FFD700",
    "sidebar_border": "#EEEEEE",
    "wrapper_background": "#FFFFFF"
   },
   "moveMenuLeft": true,
   "nav_menu": {
    "height": "12px",
    "width": "252px"
   },
   "navigate_menu": true,
   "number_sections": true,
   "sideBar": true,
   "threshold": 4,
   "toc_cell": false,
   "toc_section_display": "block",
   "toc_window_display": true,
   "widenNotebook": false
  }
 },
 "nbformat": 4,
 "nbformat_minor": 2
}
