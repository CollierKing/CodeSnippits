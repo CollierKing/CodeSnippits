{
 "cells": [
  {
   "cell_type": "code",
   "execution_count": 1,
   "metadata": {
    "collapsed": true
   },
   "outputs": [],
   "source": [
    "import pandas as pd"
   ]
  },
  {
   "cell_type": "code",
   "execution_count": 3,
   "metadata": {},
   "outputs": [
    {
     "name": "stdout",
     "output_type": "stream",
     "text": [
      "0\n",
      "1\n",
      "2\n",
      "3\n",
      "4\n",
      "5\n",
      "6\n",
      "7\n",
      "8\n",
      "9\n"
     ]
    }
   ],
   "source": [
    "for i in range(10):\n",
    "    print(i)"
   ]
  },
  {
   "cell_type": "markdown",
   "metadata": {},
   "source": [
    "# Read from Access DB via ODBC"
   ]
  },
  {
   "cell_type": "markdown",
   "metadata": {},
   "source": [
    "https://www.easysoft.com/developer/languages/python/pyodbc.html\n",
    "\n",
    "https://www.youtube.com/watch?v=zw9P2wSnoIo"
   ]
  },
  {
   "cell_type": "code",
   "execution_count": null,
   "metadata": {
    "collapsed": true
   },
   "outputs": [],
   "source": []
  },
  {
   "cell_type": "markdown",
   "metadata": {},
   "source": [
    "# Read from SAS Dataset via ODBC"
   ]
  },
  {
   "cell_type": "markdown",
   "metadata": {},
   "source": [
    "## Compressed File"
   ]
  },
  {
   "cell_type": "code",
   "execution_count": 4,
   "metadata": {
    "collapsed": true
   },
   "outputs": [],
   "source": [
    "test = pd.read_sas(\"C:/Users/David/Dropbox/Skills/SAS_JMP/Data/client.sas7bdat\")"
   ]
  },
  {
   "cell_type": "code",
   "execution_count": 5,
   "metadata": {},
   "outputs": [
    {
     "data": {
      "text/html": [
       "<div>\n",
       "<style>\n",
       "    .dataframe thead tr:only-child th {\n",
       "        text-align: right;\n",
       "    }\n",
       "\n",
       "    .dataframe thead th {\n",
       "        text-align: left;\n",
       "    }\n",
       "\n",
       "    .dataframe tbody tr th {\n",
       "        vertical-align: top;\n",
       "    }\n",
       "</style>\n",
       "<table border=\"1\" class=\"dataframe\">\n",
       "  <thead>\n",
       "    <tr style=\"text-align: right;\">\n",
       "      <th></th>\n",
       "      <th>CLIENT_ID</th>\n",
       "      <th>FST_NM</th>\n",
       "      <th>LST_NM</th>\n",
       "      <th>ORIG_DT</th>\n",
       "      <th>BIRTH_DT</th>\n",
       "      <th>ZIP_5</th>\n",
       "    </tr>\n",
       "  </thead>\n",
       "  <tbody>\n",
       "    <tr>\n",
       "      <th>0</th>\n",
       "      <td>b'0996257578'</td>\n",
       "      <td>b'JENNIE'</td>\n",
       "      <td>b'JOHNSON'</td>\n",
       "      <td>14116.715709</td>\n",
       "      <td>5040.564985</td>\n",
       "      <td>b'91320'</td>\n",
       "    </tr>\n",
       "    <tr>\n",
       "      <th>1</th>\n",
       "      <td>b'0603759831'</td>\n",
       "      <td>b'LORETTA'</td>\n",
       "      <td>b'MITCHELL'</td>\n",
       "      <td>15141.465836</td>\n",
       "      <td>3640.567226</td>\n",
       "      <td>b'92129'</td>\n",
       "    </tr>\n",
       "    <tr>\n",
       "      <th>2</th>\n",
       "      <td>b'0640025008'</td>\n",
       "      <td>b'WALTER'</td>\n",
       "      <td>b'THAMMAVONG'</td>\n",
       "      <td>14605.794273</td>\n",
       "      <td>-4616.599049</td>\n",
       "      <td>b'32766'</td>\n",
       "    </tr>\n",
       "    <tr>\n",
       "      <th>3</th>\n",
       "      <td>b'0724761848'</td>\n",
       "      <td>b'ANDRE'</td>\n",
       "      <td>b'DAHLEM'</td>\n",
       "      <td>13552.303007</td>\n",
       "      <td>-3533.341032</td>\n",
       "      <td>b'60102'</td>\n",
       "    </tr>\n",
       "    <tr>\n",
       "      <th>4</th>\n",
       "      <td>b'0221655391'</td>\n",
       "      <td>b'AMADA'</td>\n",
       "      <td>b'SNYDER'</td>\n",
       "      <td>15007.282826</td>\n",
       "      <td>NaN</td>\n",
       "      <td>b'85044'</td>\n",
       "    </tr>\n",
       "  </tbody>\n",
       "</table>\n",
       "</div>"
      ],
      "text/plain": [
       "       CLIENT_ID      FST_NM         LST_NM       ORIG_DT     BIRTH_DT  \\\n",
       "0  b'0996257578'   b'JENNIE'     b'JOHNSON'  14116.715709  5040.564985   \n",
       "1  b'0603759831'  b'LORETTA'    b'MITCHELL'  15141.465836  3640.567226   \n",
       "2  b'0640025008'   b'WALTER'  b'THAMMAVONG'  14605.794273 -4616.599049   \n",
       "3  b'0724761848'    b'ANDRE'      b'DAHLEM'  13552.303007 -3533.341032   \n",
       "4  b'0221655391'    b'AMADA'      b'SNYDER'  15007.282826          NaN   \n",
       "\n",
       "      ZIP_5  \n",
       "0  b'91320'  \n",
       "1  b'92129'  \n",
       "2  b'32766'  \n",
       "3  b'60102'  \n",
       "4  b'85044'  "
      ]
     },
     "execution_count": 5,
     "metadata": {},
     "output_type": "execute_result"
    }
   ],
   "source": [
    "test.head()"
   ]
  },
  {
   "cell_type": "code",
   "execution_count": 8,
   "metadata": {},
   "outputs": [
    {
     "ename": "AttributeError",
     "evalue": "'NoneType' object has no attribute 'lower'",
     "output_type": "error",
     "traceback": [
      "\u001b[1;31m---------------------------------------------------------------------------\u001b[0m",
      "\u001b[1;31mAttributeError\u001b[0m                            Traceback (most recent call last)",
      "\u001b[1;32m<ipython-input-8-6dd10a37e894>\u001b[0m in \u001b[0;36m<module>\u001b[1;34m()\u001b[0m\n\u001b[1;32m----> 1\u001b[1;33m \u001b[0mtest2\u001b[0m \u001b[1;33m=\u001b[0m \u001b[0mpd\u001b[0m\u001b[1;33m.\u001b[0m\u001b[0mread_sas\u001b[0m\u001b[1;33m(\u001b[0m\u001b[1;34m\"C:/Users/David/Dropbox/Skills/CodeSnippits/SAS/Artists.dat\"\u001b[0m\u001b[1;33m)\u001b[0m\u001b[1;33m\u001b[0m\u001b[0m\n\u001b[0m",
      "\u001b[1;32mC:\\Users\\David\\lib\\site-packages\\pandas\\io\\sas\\sasreader.py\u001b[0m in \u001b[0;36mread_sas\u001b[1;34m(filepath_or_buffer, format, index, encoding, chunksize, iterator)\u001b[0m\n\u001b[0;32m     48\u001b[0m             \u001b[1;32mpass\u001b[0m\u001b[1;33m\u001b[0m\u001b[0m\n\u001b[0;32m     49\u001b[0m \u001b[1;33m\u001b[0m\u001b[0m\n\u001b[1;32m---> 50\u001b[1;33m     \u001b[1;32mif\u001b[0m \u001b[0mformat\u001b[0m\u001b[1;33m.\u001b[0m\u001b[0mlower\u001b[0m\u001b[1;33m(\u001b[0m\u001b[1;33m)\u001b[0m \u001b[1;33m==\u001b[0m \u001b[1;34m'xport'\u001b[0m\u001b[1;33m:\u001b[0m\u001b[1;33m\u001b[0m\u001b[0m\n\u001b[0m\u001b[0;32m     51\u001b[0m         \u001b[1;32mfrom\u001b[0m \u001b[0mpandas\u001b[0m\u001b[1;33m.\u001b[0m\u001b[0mio\u001b[0m\u001b[1;33m.\u001b[0m\u001b[0msas\u001b[0m\u001b[1;33m.\u001b[0m\u001b[0msas_xport\u001b[0m \u001b[1;32mimport\u001b[0m \u001b[0mXportReader\u001b[0m\u001b[1;33m\u001b[0m\u001b[0m\n\u001b[0;32m     52\u001b[0m         reader = XportReader(filepath_or_buffer, index=index,\n",
      "\u001b[1;31mAttributeError\u001b[0m: 'NoneType' object has no attribute 'lower'"
     ]
    }
   ],
   "source": [
    "test2 = pd.read_sas(\"C:/Users/David/Dropbox/Skills/CodeSnippits/SAS/Artists.dat\")"
   ]
  },
  {
   "cell_type": "code",
   "execution_count": null,
   "metadata": {
    "collapsed": true
   },
   "outputs": [],
   "source": []
  },
  {
   "cell_type": "code",
   "execution_count": null,
   "metadata": {
    "collapsed": true
   },
   "outputs": [],
   "source": []
  },
  {
   "cell_type": "code",
   "execution_count": null,
   "metadata": {
    "collapsed": true
   },
   "outputs": [],
   "source": []
  }
 ],
 "metadata": {
  "kernelspec": {
   "display_name": "vanpy36",
   "language": "python",
   "name": "vanpy36"
  },
  "language_info": {
   "codemirror_mode": {
    "name": "ipython",
    "version": 3
   },
   "file_extension": ".py",
   "mimetype": "text/x-python",
   "name": "python",
   "nbconvert_exporter": "python",
   "pygments_lexer": "ipython3",
   "version": "3.6.0"
  },
  "toc": {
   "colors": {
    "hover_highlight": "#DAA520",
    "navigate_num": "#000000",
    "navigate_text": "#333333",
    "running_highlight": "#FF0000",
    "selected_highlight": "#FFD700",
    "sidebar_border": "#EEEEEE",
    "wrapper_background": "#FFFFFF"
   },
   "moveMenuLeft": true,
   "nav_menu": {
    "height": "64px",
    "width": "255px"
   },
   "navigate_menu": true,
   "number_sections": true,
   "sideBar": true,
   "threshold": 4,
   "toc_cell": false,
   "toc_section_display": "block",
   "toc_window_display": true,
   "widenNotebook": false
  }
 },
 "nbformat": 4,
 "nbformat_minor": 2
}
