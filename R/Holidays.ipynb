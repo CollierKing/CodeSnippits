{
 "cells": [
  {
   "cell_type": "markdown",
   "metadata": {},
   "source": [
    "# Get List of Banking Holidays"
   ]
  },
  {
   "cell_type": "code",
   "execution_count": 4,
   "metadata": {},
   "outputs": [
    {
     "data": {
      "text/html": [
       "<table>\n",
       "<thead><tr><th scope=col>Holiday</th><th scope=col>Dates</th><th scope=col>Day</th><th scope=col>Dates2</th></tr></thead>\n",
       "<tbody>\n",
       "\t<tr><td>USNewYearsDay          </td><td>2018-01-01             </td><td>Monday                 </td><td>2018-01-01             </td></tr>\n",
       "\t<tr><td>USMLKingsBirthday      </td><td>2018-01-15             </td><td>Monday                 </td><td>2018-01-15             </td></tr>\n",
       "\t<tr><td>USPresidentsDay        </td><td>2018-02-19             </td><td>Monday                 </td><td>2018-02-19             </td></tr>\n",
       "\t<tr><td>USMemorialDay          </td><td>2018-05-28             </td><td>Monday                 </td><td>2018-05-28             </td></tr>\n",
       "\t<tr><td>USDecorationMemorialDay</td><td>2018-05-30             </td><td>Wednesday              </td><td>2018-05-30             </td></tr>\n",
       "\t<tr><td>USIndependenceDay      </td><td>2018-07-04             </td><td>Wednesday              </td><td>2018-07-04             </td></tr>\n",
       "\t<tr><td>USLaborDay             </td><td>2018-09-03             </td><td>Monday                 </td><td>2018-09-03             </td></tr>\n",
       "\t<tr><td>USColumbusDay          </td><td>2018-10-08             </td><td>Monday                 </td><td>2018-10-08             </td></tr>\n",
       "\t<tr><td>USVeteransDay          </td><td>2018-11-11             </td><td>Sunday                 </td><td>2018-11-12             </td></tr>\n",
       "\t<tr><td>USThanksgivingDay      </td><td>2018-11-22             </td><td>Thursday               </td><td>2018-11-22             </td></tr>\n",
       "\t<tr><td>USChristmasDay         </td><td>2018-12-25             </td><td>Tuesday                </td><td>2018-12-25             </td></tr>\n",
       "</tbody>\n",
       "</table>\n"
      ],
      "text/latex": [
       "\\begin{tabular}{r|llll}\n",
       " Holiday & Dates & Day & Dates2\\\\\n",
       "\\hline\n",
       "\t USNewYearsDay           & 2018-01-01              & Monday                  & 2018-01-01             \\\\\n",
       "\t USMLKingsBirthday       & 2018-01-15              & Monday                  & 2018-01-15             \\\\\n",
       "\t USPresidentsDay         & 2018-02-19              & Monday                  & 2018-02-19             \\\\\n",
       "\t USMemorialDay           & 2018-05-28              & Monday                  & 2018-05-28             \\\\\n",
       "\t USDecorationMemorialDay & 2018-05-30              & Wednesday               & 2018-05-30             \\\\\n",
       "\t USIndependenceDay       & 2018-07-04              & Wednesday               & 2018-07-04             \\\\\n",
       "\t USLaborDay              & 2018-09-03              & Monday                  & 2018-09-03             \\\\\n",
       "\t USColumbusDay           & 2018-10-08              & Monday                  & 2018-10-08             \\\\\n",
       "\t USVeteransDay           & 2018-11-11              & Sunday                  & 2018-11-12             \\\\\n",
       "\t USThanksgivingDay       & 2018-11-22              & Thursday                & 2018-11-22             \\\\\n",
       "\t USChristmasDay          & 2018-12-25              & Tuesday                 & 2018-12-25             \\\\\n",
       "\\end{tabular}\n"
      ],
      "text/markdown": [
       "\n",
       "Holiday | Dates | Day | Dates2 | \n",
       "|---|---|---|---|---|---|---|---|---|---|---|\n",
       "| USNewYearsDay           | 2018-01-01              | Monday                  | 2018-01-01              | \n",
       "| USMLKingsBirthday       | 2018-01-15              | Monday                  | 2018-01-15              | \n",
       "| USPresidentsDay         | 2018-02-19              | Monday                  | 2018-02-19              | \n",
       "| USMemorialDay           | 2018-05-28              | Monday                  | 2018-05-28              | \n",
       "| USDecorationMemorialDay | 2018-05-30              | Wednesday               | 2018-05-30              | \n",
       "| USIndependenceDay       | 2018-07-04              | Wednesday               | 2018-07-04              | \n",
       "| USLaborDay              | 2018-09-03              | Monday                  | 2018-09-03              | \n",
       "| USColumbusDay           | 2018-10-08              | Monday                  | 2018-10-08              | \n",
       "| USVeteransDay           | 2018-11-11              | Sunday                  | 2018-11-12              | \n",
       "| USThanksgivingDay       | 2018-11-22              | Thursday                | 2018-11-22              | \n",
       "| USChristmasDay          | 2018-12-25              | Tuesday                 | 2018-12-25              | \n",
       "\n",
       "\n"
      ],
      "text/plain": [
       "   Holiday                 Dates      Day       Dates2    \n",
       "1  USNewYearsDay           2018-01-01 Monday    2018-01-01\n",
       "2  USMLKingsBirthday       2018-01-15 Monday    2018-01-15\n",
       "3  USPresidentsDay         2018-02-19 Monday    2018-02-19\n",
       "4  USMemorialDay           2018-05-28 Monday    2018-05-28\n",
       "5  USDecorationMemorialDay 2018-05-30 Wednesday 2018-05-30\n",
       "6  USIndependenceDay       2018-07-04 Wednesday 2018-07-04\n",
       "7  USLaborDay              2018-09-03 Monday    2018-09-03\n",
       "8  USColumbusDay           2018-10-08 Monday    2018-10-08\n",
       "9  USVeteransDay           2018-11-11 Sunday    2018-11-12\n",
       "10 USThanksgivingDay       2018-11-22 Thursday  2018-11-22\n",
       "11 USChristmasDay          2018-12-25 Tuesday   2018-12-25"
      ]
     },
     "metadata": {},
     "output_type": "display_data"
    }
   ],
   "source": [
    "library(timeDate)\n",
    "library(dplyr)\n",
    "\n",
    "holidays <- listHolidays(\"US\")\n",
    "# https://www.redcort.com/us-federal-bank-holidays/\n",
    "\n",
    "do.call(rbind,\n",
    "        lapply(holidays, function(i){\n",
    "          foo <- match.fun(i)  \n",
    "          data.frame(Holiday = i,\n",
    "                     Dates = as.Date(foo(2015:2018)))\n",
    "            })) %>%\n",
    "filter(\n",
    "    !Holiday  %in% c(\"USCPulaskisBirthday\",\n",
    "                     \"USInaugurationDay\",\n",
    "                    \"USElectionDay\",\n",
    "                    \"USLincolnsBirthday\",\n",
    "                    \"USWashingtonsBirthday\",\n",
    "                    \"USGoodFriday\") #not banking holidays\n",
    ") %>%\n",
    "arrange(\n",
    "    Dates\n",
    ") %>%\n",
    "filter(\n",
    "    Dates > '2017-12-31'\n",
    ") %>%\n",
    "mutate(\n",
    "    Day = weekdays(Dates),\n",
    "    Dates2 = as.Date(ifelse(Day==\"Sunday\",\n",
    "                   Dates+1,Dates),origin=\"1970-01-01\")\n",
    ")"
   ]
  },
  {
   "cell_type": "code",
   "execution_count": null,
   "metadata": {
    "collapsed": true
   },
   "outputs": [],
   "source": []
  }
 ],
 "metadata": {
  "kernelspec": {
   "display_name": "R 3",
   "language": "R",
   "name": "ir32"
  },
  "language_info": {
   "codemirror_mode": "r",
   "file_extension": ".r",
   "mimetype": "text/x-r-source",
   "name": "R",
   "pygments_lexer": "r",
   "version": "3.4.2"
  },
  "toc": {
   "colors": {
    "hover_highlight": "#DAA520",
    "navigate_num": "#000000",
    "navigate_text": "#333333",
    "running_highlight": "#FF0000",
    "selected_highlight": "#FFD700",
    "sidebar_border": "#EEEEEE",
    "wrapper_background": "#FFFFFF"
   },
   "moveMenuLeft": true,
   "nav_menu": {
    "height": "30px",
    "width": "252px"
   },
   "navigate_menu": true,
   "number_sections": true,
   "sideBar": true,
   "threshold": 4,
   "toc_cell": false,
   "toc_section_display": "block",
   "toc_window_display": false,
   "widenNotebook": false
  }
 },
 "nbformat": 4,
 "nbformat_minor": 2
}
